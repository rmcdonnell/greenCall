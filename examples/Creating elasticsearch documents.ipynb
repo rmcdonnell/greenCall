{
 "cells": [
  {
   "cell_type": "code",
   "execution_count": 32,
   "metadata": {
    "collapsed": false
   },
   "outputs": [
    {
     "name": "stdout",
     "output_type": "stream",
     "text": [
      "customsearch#search\n",
      "{u'type': u'application/json', u'template': u'https://www.googleapis.com/customsearch/v1?q={searchTerms}&num={count?}&start={startIndex?}&lr={language?}&safe={safe?}&cx={cx?}&cref={cref?}&sort={sort?}&filter={filter?}&gl={gl?}&cr={cr?}&googlehost={googleHost?}&c2coff={disableCnTwTranslation?}&hq={hq?}&hl={hl?}&siteSearch={siteSearch?}&siteSearchFilter={siteSearchFilter?}&exactTerms={exactTerms?}&excludeTerms={excludeTerms?}&linkSite={linkSite?}&orTerms={orTerms?}&relatedSite={relatedSite?}&dateRestrict={dateRestrict?}&lowRange={lowRange?}&highRange={highRange?}&searchType={searchType}&fileType={fileType?}&rights={rights?}&imgSize={imgSize?}&imgType={imgType?}&imgColorType={imgColorType?}&imgDominantColor={imgDominantColor?}&alt=json'}\n"
     ]
    }
   ],
   "source": [
    "import json\n",
    "import codecs\n",
    "\n",
    "with open('mapping.json', 'r') as jsonin:\n",
    "    demo = json.load(jsonin)\n",
    "    \n",
    "    count = 0\n",
    "    while count < 2:\n",
    "        print demo.values()[count]\n",
    "        count += 1\n",
    "        \n",
    "    \n",
    "    #for key in demo.keys():\n",
    "    #    demo[key] = codecs.encode(demo[key])"
   ]
  },
  {
   "cell_type": "code",
   "execution_count": 34,
   "metadata": {
    "collapsed": false
   },
   "outputs": [
    {
     "name": "stdout",
     "output_type": "stream",
     "text": [
      "Number of list items: 6\n",
      "First 5 account numbers: [u'kind', u'url', u'items', u'context', u'queries']\n"
     ]
    }
   ],
   "source": [
    "# each value is mapped to an account number\n",
    "\n",
    "print(\"Number of list items: {}\".format(len(demo.keys())))\n",
    "print(\"First 6 account numbers: {}\".format(demo.keys()[:5]))"
   ]
  },
  {
   "cell_type": "code",
   "execution_count": 37,
   "metadata": {
    "collapsed": false
   },
   "outputs": [
    {
     "name": "stdout",
     "output_type": "stream",
     "text": [
      "(u'kind', u'customsearch#search')\n",
      "(u'url', {u'type': u'application/json', u'template': u'https://www.googleapis.com/customsearch/v1?q={searchTerms}&num={count?}&start={startIndex?}&lr={language?}&safe={safe?}&cx={cx?}&cref={cref?}&sort={sort?}&filter={filter?}&gl={gl?}&cr={cr?}&googlehost={googleHost?}&c2coff={disableCnTwTranslation?}&hq={hq?}&hl={hl?}&siteSearch={siteSearch?}&siteSearchFilter={siteSearchFilter?}&exactTerms={exactTerms?}&excludeTerms={excludeTerms?}&linkSite={linkSite?}&orTerms={orTerms?}&relatedSite={relatedSite?}&dateRestrict={dateRestrict?}&lowRange={lowRange?}&highRange={highRange?}&searchType={searchType}&fileType={fileType?}&rights={rights?}&imgSize={imgSize?}&imgType={imgType?}&imgColorType={imgColorType?}&imgDominantColor={imgDominantColor?}&alt=json'})\n",
      "(u'items', [{u'kind': u'customsearch#result', u'title': u'The Billy Knight Band - Cover Band Plano, TX', u'displayLink': u'www.gigmasters.com', u'htmlTitle': u'The <b>Billy</b> Knight Band - Cover Band Plano, TX', u'formattedUrl': u'https://www.gigmasters.com/music/billyknightband', u'htmlFormattedUrl': u'https://www.gig<b>masters</b>.com/music/<b>billy</b>knightband', u'pagemap': {u'metatags': [{u'og:url': u'https://www.gigmasters.com/music/billyknightband', u'og:site_name': u'GigMasters', u'og:locality': u'Plano', u'og:region': u'Texas', u'og:description': u'The Billy Knight Band - Cover Band in Plano, TX', u'og:country': u'USA', u'og:title': u'The Billy Knight Band', u'og:image': u'//d3ew4rh7xxgmkq.cloudfront.net/performer/132396/photos/132396-ce95848f22c04a6cb2681b4d5ef336d8-1-icon.jpg', u'viewport': u'width=device-width, initial-scale=1.0, maximum-scale=1'}], u'breadcrumb': [{u'url': u'Cover Band', u'title': u'Cover Band'}, {u'url': u'Texas Cover Bands', u'title': u'Texas Cover Bands'}, {u'url': u'Plano Cover Bands', u'title': u'Plano Cover Bands'}], u'localbusiness': [{u'name': u'The Billy Knight Band', u'description': u'Cover Band'}], u'postaladdress': [{u'addresslocality': u'Plano', u'addressregion': u'TX'}], u'cse_image': [{u'src': u'//d3ew4rh7xxgmkq.cloudfront.net/performer/132396/photos/132396-ce95848f22c04a6cb2681b4d5ef336d8-1-icon.jpg'}], u'geocoordinates': [{u'latitude': u'33.032072', u'longitude': u'-96.802811'}]}, u'snippet': u\"We play all of your favorites from the 60's through today's top hits. We are 4 \\nprofessional musicians all with degrees in music that love to play and have a...\", u'htmlSnippet': u'We play all of your favorites from the 60&#39;s through today&#39;s top hits. We are 4 <br>\\nprofessional musicians all with degrees in music that love to play and have a...', u'link': u'https://www.gigmasters.com/music/billyknightband', u'cacheId': u'7cTedaPJVLMJ'}, {u'kind': u'customsearch#result', u'title': u'Ejadah Asset Management Group - Google+', u'displayLink': u'plus.google.com', u'htmlTitle': u'Ejadah <b>Asset</b> Management Group - Google+', u'formattedUrl': u'https://plus.google.com/+EjadahAssetManagementGroupDubai', u'htmlFormattedUrl': u'https://plus.google.com/+Ejadah<b>Asset</b>ManagementGroupDubai', u'pagemap': {u'hcard': [{u'fn': u'Ejadah Asset Management Group'}], u'webpage': [{u'url': u'https://plus.google.com/+EjadahAssetManagementGroupDubai', u'image': u'//lh3.googleusercontent.com/-uB-Yayv94cI/AAAAAAAAAAI/AAAAAAAAAAw/po4e4BseHLE/photo.jpg', u'name': u'Ejadah Asset Management Group - Google+', u'description': u'Ejadah Asset Management Group is a Total Community Solutions provider, offering seamless and sustainable environments for real estate assets. We identify, design and deliver solutions for residential,'}], u'metatags': [{u'twitter:title': u'Ejadah Asset Management Group - Google+', u'referrer': u'origin', u'og:title': u'Ejadah Asset Management Group - Google+', u'twitter:image:src': u'//lh3.googleusercontent.com/-wNqI03y6iIo/VX0u8BTiAgI/AAAAAAAAAgs/yZLe3gfp_F8/w426-h436/Ejadah%2BMessaging_V1.png'}], u'postaladdress': [{u'addresscountry': u'AE', u'addressregion': u'Dubai', u'addresslocality': u'Dubai'}], u'cse_thumbnail': [{u'width': u'299', u'height': u'168', u'src': u'https://encrypted-tbn2.gstatic.com/images?q=tbn:ANd9GcQWbgzVOpsW74ieZQOtfBe1M0DxmiPFw4n4HprWl3H-WMkuoCHhs88iC74'}], u'cse_image': [{u'src': u'https://lh3.googleusercontent.com/-iCArnZQS7sw/VT9T2VubRWI/AAAAAAAAAaM/kYtccW8GVtw/s630-fcrop64=1,0078006affffff94:Soften=1,60,0/Screen%2BShot%2B2015-04-28%2Bat%2B1.32.55%2BPM.png'}]}, u'snippet': u'Ejadah Asset Management Group - Ejadah Asset Management Group is a Total \\nCommunity Solutions provider, offering seamless and sustainable environments\\n\\xa0...', u'htmlSnippet': u'Ejadah <b>Asset</b> Management Group - Ejadah <b>Asset</b> Management Group is a Total <br>\\nCommunity Solutions provider, offering seamless and sustainable environments<br>\\n&nbsp;...', u'link': u'https://plus.google.com/+EjadahAssetManagementGroupDubai', u'cacheId': u'wU6cYXkoPgIJ'}, {u'kind': u'customsearch#result', u'title': u'Billy Hiett - Master Lab Technician - Henderson, KY | Indeed', u'displayLink': u'www.indeed.com', u'htmlTitle': u'<b>Billy</b> Hiett - <b>Master</b> Lab Technician - Henderson, KY | Indeed', u'formattedUrl': u'www.indeed.com/r/Billy-Hiett/9aa039ce002b5081', u'htmlFormattedUrl': u'www.indeed.com/r/<b>Billy</b>-Hiett/9aa039ce002b5081', u'pagemap': {u'educationalorganization': [{u'name': u'Ivy Tech Community College'}], u'hcard': [{u'fn': u'Billy Hiett', u'title': u'Master Lab Technician'}, {u'fn': u'Billy Hiett', u'title': u'Master Lab Technician'}], u'metatags': [{u'og:url': u'http://www.indeed.com/r/Billy-Hiett/9aa039ce002b5081', u'og:site_name': u'Indeed.com', u'og:type': u'indeedjobs:indeed_resume', u'og:description': u\"Billy Hiett's Resume - Master Lab Technician in Evansville, IN. - Find millions of resumes on Indeed.com.\", u'resumeid': u'9aa039ce002b5081', u'og:title': u'Billy Hiett - Indeed Resume', u'fb:app_id': u'115882278440564', u'og:image': u'http://labkit.indeed.com/static/indeed_fb.png', u'viewport': u'width=device-width,initial-scale=1.0,maximum-scale=1.0,user-scalable=no'}], u'person': [{u'role': u'Master Lab Technician', u'location': u'Henderson, KY'}, {u'jobtitle': u'Master Lab Technician', u'name': u'Billy Hiett'}], u'postaladdress': [{u'addresslocality': u'Henderson, KY'}], u'cse_image': [{u'src': u'http://labkit.indeed.com/static/indeed_fb.png'}]}, u'snippet': u\"Oct 24, 2014 ... Billy Hiett's Resume - Master Lab Technician in Evansville, IN. ... operational \\nplanning and asset maintenance, acquisition and management.\", u'htmlSnippet': u'Oct 24, 2014 <b>...</b> <b>Billy</b> Hiett&#39;s Resume - <b>Master</b> Lab Technician in Evansville, IN. ... operational <br>\\nplanning and <b>asset</b> maintenance, acquisition and management.', u'link': u'http://www.indeed.com/r/Billy-Hiett/9aa039ce002b5081'}, {u'kind': u'customsearch#result', u'title': u'GSV Capital: Board of Directors', u'displayLink': u'investors.gsvcap.com', u'htmlTitle': u'GSV Capital: Board of Directors', u'formattedUrl': u'investors.gsvcap.com/directors.cfm', u'htmlFormattedUrl': u'investors.gsvcap.com/directors.cfm', u'pagemap': {u'metatags': [{u'viewport': u'width=device-width, initial-scale=1, minimum-scale=1.0, maximum-scale=1.0'}], u'postaladdress': [{u'addresslocality': u'Woodside,', u'addressregion': u'CA', u'streetaddress': u'2925 Woodside Road', u'postalcode': u'94062 USA', u'name': u'GSV Capital Corp. The Pioneer Building'}], u'cse_thumbnail': [{u'width': u'160', u'height': u'80', u'src': u'https://encrypted-tbn1.gstatic.com/images?q=tbn:ANd9GcSBf7vD2SOQdems4lZhq8kOoM9IHdjhKGo6U3QE8WBrsbJGKvsRimA6ug'}], u'cse_image': [{u'src': u'http://charts.edgar-online.com/ext/charts.dll?2-4-e-0-0-53-03NA000000GSVC&fs-100-SF:1%7C2%7C5%7C3-BG=ffffff-BG1=ffffff-BG2=ffffff-FF:A18=ffffff%7CA33=ffffff-ht=100-wd=200-FT:0=2-HO:SW%7CSE%7CNW%7CNE-AP:9=2%7C10=2-FB:1=ffffff-FL:2=990033-FF:2=990033-FL:3=009900-FF:3=009900-FL:1=6081E8-FF:1=6081E8-FL:18=6081E8-FF:18=6081E8-FL:5=333333-FF:5=333333-HC:2-AT:9=0-FI:'}]}, u'snippet': u'GSV Asset Management \\xb7 GSV Tomorrow \\xb7 Education Innovation Summit .... at \\nNorthwestern University, with a Masters of Management Degree, and also\\xa0...', u'htmlSnippet': u'GSV <b>Asset</b> Management &middot; GSV Tomorrow &middot; Education Innovation Summit .... at <br>\\nNorthwestern University, with a <b>Masters</b> of Management Degree, and also&nbsp;...', u'link': u'http://investors.gsvcap.com/directors.cfm', u'cacheId': u'1gBMs2ImdRgJ'}, {u'kind': u'customsearch#result', u'title': u'Billy Hogue - Military Analyst - Waverly Hall, GA | Indeed', u'displayLink': u'www.indeed.com', u'htmlTitle': u'<b>Billy</b> Hogue - Military Analyst - Waverly Hall, GA | Indeed', u'formattedUrl': u'www.indeed.com/r/Billy-Hogue/1faae9416c5e08de', u'htmlFormattedUrl': u'www.indeed.com/r/<b>Billy</b>-Hogue/1faae9416c5e08de', u'pagemap': {u'educationalorganization': [{u'name': u'Troy State University'}, {u'name': u'Central Texas College'}, {u'name': u'Kirbyville High School'}], u'hcard': [{u'fn': u'Billy Hogue', u'title': u'Military Analyst'}, {u'fn': u'Billy Hogue', u'title': u'Military Analyst'}], u'metatags': [{u'og:url': u'http://www.indeed.com/r/Billy-Hogue/1faae9416c5e08de', u'og:site_name': u'Indeed.com', u'og:type': u'indeedjobs:indeed_resume', u'og:description': u\"Billy Hogue's Resume - Military Analyst in Fort Benning, GA. - Find millions of resumes on Indeed.com.\", u'resumeid': u'1faae9416c5e08de', u'og:title': u'Billy Hogue - Indeed Resume', u'fb:app_id': u'115882278440564', u'og:image': u'http://labkit.indeed.com/static/indeed_fb.png', u'viewport': u'width=device-width,initial-scale=1.0,maximum-scale=1.0,user-scalable=no'}], u'person': [{u'role': u'Military Analyst', u'location': u'Waverly Hall, GA'}, {u'jobtitle': u'Military Analyst', u'name': u'Billy Hogue'}], u'postaladdress': [{u'addresslocality': u'Waverly Hall, GA'}, {u'addresslocality': u'Fort Benning, GA'}, {u'addresslocality': u'Killeen, TX'}, {u'addresslocality': u'Kirbyville, TX'}], u'cse_image': [{u'src': u'http://labkit.indeed.com/static/indeed_fb.png'}]}, u'snippet': u\"Billy Hogue's Resume - Military Analyst in Fort Benning, GA. ... asset and \\nresource data for all units and directorates; reviewed Programs of Instruction (POI\\n) with\\xa0...\", u'htmlSnippet': u'<b>Billy</b> Hogue&#39;s Resume - Military Analyst in Fort Benning, GA. ... <b>asset</b> and <br>\\nresource data for all units and directorates; reviewed Programs of Instruction (POI<br>\\n) with&nbsp;...', u'link': u'http://www.indeed.com/r/Billy-Hogue/1faae9416c5e08de'}, {u'kind': u'customsearch#result', u'title': u'Attorney - William Bennett - Kidder & Bennett, P.A.', u'displayLink': u'www.kidderbennett.com', u'htmlTitle': u'Attorney - <b>William</b> Bennett - Kidder &amp; Bennett, P.A.', u'formattedUrl': u'www.kidderbennett.com/attorneys/william-bennett/', u'htmlFormattedUrl': u'www.kidderbennett.com/attorneys/<b>william</b>-bennett/', u'pagemap': {u'metatags': [{u'og:url': u'http://www.kidderbennett.com/attorneys/william-bennett/', u'og:site_name': u'Kidder & Bennett PA', u'og:type': u'article', u'og:description': u'Attorney William Bennett  Criminal defense, family law certified mediator and trial lawyer  Criminal defense and family law attorney William Bennett is a partner at Kidder & Bennett. As a Florida Supreme Court certified mediator, Bill guides couples toward equitable settlements in family law disputes and represents individuals who are involved in the...', u'lndev': u'load_robots', u'og:title': u'William Bennett', u'og:image': u'http://www.kidderbennett.com/kidderbennett/img/Bennett_profile.jpg', u'viewport': u'width=device-width, initial-scale=1.0'}], u'postaladdress': [{u'addresslocality': u'St. Petersburg', u'addressregion': u'FL', u'streetaddress': u'275 - 96th. Ave. North', u'postalcode': u'33702'}, {u'telephone': u'727.821.8000'}], u'cse_thumbnail': [{u'width': u'444', u'height': u'113', u'src': u'https://encrypted-tbn3.gstatic.com/images?q=tbn:ANd9GcQWwDZpJ4Zh1-runj9jyCXkIkLOJKeAGYyIB6NdIxnC7ivqxLJ3zEK4A_c'}], u'cse_image': [{u'src': u'http://www.kidderbennett.com/wp-content/themes/kidderbennett/img/sub-img.jpg'}], u'attorney': [{u'name': u'Kidder & Bennett'}]}, u'snippet': u'William Bennett is a family law certified mediator and a St. Petersburg attorney \\nhandling divorce, child support, custody and criminal defense.', u'htmlSnippet': u'<b>William</b> Bennett is a family law certified mediator and a St. Petersburg attorney <br>\\nhandling divorce, child support, custody and criminal defense.', u'link': u'http://www.kidderbennett.com/attorneys/william-bennett/', u'cacheId': u'XayzUpCDqkQJ'}, {u'kind': u'customsearch#result', u'title': u\"Billy Johnson's new goal has nothing to do with hockey - Las Vegas ...\", u'displayLink': u'lasvegassun.com', u'htmlTitle': u'<b>Billy</b> Johnson&#39;s new goal has nothing to do with hockey - Las Vegas <b>...</b>', u'formattedUrl': u'lasvegassun.com/.../billy-johnson-new-goal-nothing-to-do-with-hockey-/', u'htmlFormattedUrl': u'lasvegassun.com/.../<b>billy</b>-johnson-new-goal-nothing-to-do-with-hockey-/', u'pagemap': {u'sitenavigationelement': [{u'url': u'News', u'name': u'News'}, {u'url': u'About Us', u'name': u'About Us'}], u'metatags': [{u'twitter:creator': u'@JohnnyKats', u'og:url': u'http://lasvegassun.com/blogs/kats-report/2015/jan/11/billy-johnson-new-goal-nothing-to-do-with-hockey-/', u'og:site_name': u'LasVegasSun.com', u'twitter:card': u'summary', u'article:published_time': u'2015-01-11T15:29', u'og:type': u'article', u'og:description': u'Having left the Las Vegas Wranglers after more than a decade as its president and COO, Billy Johnson has taken the position as director of the University Medical Center Foundation.', u'vr:type': u'text', u'article:author': u'http://lasvegassun.com/staff/john-katsilometes/', u'twitter:account_id': u'12055942', u'fb:app_id': u'112951308742607', u'og:title': u'Billy Johnson\\u2019s new goal has nothing to do with hockey', u'twitter:image': u'//photos.lasvegassun.com/media/img/photos/2013/03/19/031913_srs_wranglers8_r100x100.jpg?b3c07ccb2170322b6086abdb714037205a461b06', u'twitter:site': u'@LasVegasSun', u'og:image': u'//photos.lasvegassun.com/media/img/photos/2013/03/19/031913_srs_wranglers8_t378.jpg?42670983c634e7c20626cc4856c543752c0d8b2f', u'y_key': u'33c272341f5beade', u'news_keywords': u'Aggregate,The Kats Report Blog,The Orleans,Orleans Arena'}], u'wpfooter': [{u'copyrightyear': u'2015', u'award': u'Pulitzer Prize for Public Service'}], u'place': [{u'description': u'UMC is the only public, non-profit hospital in Clark County and operates a Level I Trauma Center, Level II Pediatric Trauma, and Lions Burn Care Center.', u'telephone': u'702-383-2000', u'name': u'University Medical Center of Southern Nevada'}, {u'description': u'The Orleans Arena, a Boyd Gaming facility located just west of the Las Vegas Strip, is one of the nation\\u2019s leading mid-sized arenas, and was recently ranked No. 1 in the United States and...', u'telephone': u'702-284-7777', u'name': u'Orleans Arena'}, {u'name': u\"Shakespeare's Grille & Pub\"}, {u'name': u'Chateau Nightclub & Gardens'}, {u'name': u'Cleveland Clinic Lou Ruvo Center for Brain Health'}, {u'name': u'Omnia'}, {u'name': u'V Theater inside Miracle Mile Shops'}, {u'name': u'Body English'}, {u'name': u'Surrender Nightclub'}, {u'name': u'Encore Beach Club'}, {u'name': u'Club Madrid at Sunset Station'}, {u'name': u'Cleveland Clinic Lou Ruvo Center for Brain Health'}, {u'name': u'The Pearl at the Palms'}, {u'name': u\"Drai's\"}, {u'name': u'Omnia'}, {u'name': u'The Pearl at the Palms'}, {u'name': u'Luxor Hotel & Casino'}], u'newsarticle': [{u'headline': u'Billy Johnson\\u2019s new goal has nothing to do with hockey', u'articlebody': u'Stephen Sylvanie / Special to the Sun Former Las Vegas Wranglers goaltender Marc Magliarditi, left, his son and Wranglers General Manager Billy Johnson after being presented a plaque in recognition...', u'author': u'John Katsilometes', u'datepublished': u'Sunday, Jan. 11, 2015 | 3:29 p.m.'}], u'organization': [{u'url': u'Las Vegas Sun', u'name': u'Las Vegas Sun'}], u'postaladdress': [{u'addresslocality': u'Las Vegas', u'addressregion': u'NV', u'streetaddress': u'1800 W Charleston Blvd', u'postalcode': u'89102'}, {u'addresslocality': u'Las Vegas', u'addressregion': u'NV', u'streetaddress': u'4500 W Tropicana Ave', u'postalcode': u'89103'}, {u'addresslocality': u'Henderson', u'addressregion': u'NV', u'streetaddress': u'2360 Corporate Cir.', u'postalcode': u'89074'}], u'cse_image': [{u'src': u'//photos.lasvegassun.com/media/img/photos/2013/03/19/031913_srs_wranglers8_t378.jpg?42670983c634e7c20626cc4856c543752c0d8b2f'}], u'event': [{u'url': u'Pub Quiz', u'image': u'http://media.lasvegasweekly.com/img/events/2014/IMAGE3_r60x60.JPG?22ab6d220e771bcc7b37fabae4b6120119e3df54'}, {u'url': u'Industry Wednesdays', u'image': u'http://media.lasvegasweekly.com/img/events/2014/Screen_shot_2014-03-05_at_3.02.19_PM_r60x60.png?22ab6d220e771bcc7b37fabae4b6120119e3df54'}, {u'url': u'Lunch and Learn Educational Series'}, {u'url': u'Omnia Thursdays', u'image': u'http://media.lasvegasweekly.com/img/events/2015/10704191_744695555621292_7274683388995220108_n_r60x60.png?22ab6d220e771bcc7b37fabae4b6120119e3df54'}, {u'url': u'Zombie Burlesque', u'image': u'http://media.lasvegasweekly.com/img/events/2014/zombieicon_r60x60.jpeg?22ab6d220e771bcc7b37fabae4b6120119e3df54'}, {u'url': u'Throwback Thursdays', u'image': u'http://media.lasvegasweekly.com/img/events/2014/543967_324232774349429_1144537081_n_r60x60.jpg?22ab6d220e771bcc7b37fabae4b6120119e3df54'}, {u'url': u'Dillon Francis', u'image': u'http://media.lasvegasweekly.com/img/events/2015/4018778_r60x60.jpg?22ab6d220e771bcc7b37fabae4b6120119e3df54'}, {u'url': u'RL Grime', u'image': u'http://media.lasvegasweekly.com/img/events/2015/Screen_Shot_2015-06-08_at_9.48.39_AM_r60x60.png?22ab6d220e771bcc7b37fabae4b6120119e3df54'}, {u'url': u'Nashville Unplugged'}, {u'url': u'Keep Memory Alive Power of Love Gala: An Evening with Andrea Bocelli and Friends', u'image': u'http://media.lasvegasweekly.com/img/events/2014/297600_282855831727647_2056388097_n_r60x60.jpg?22ab6d220e771bcc7b37fabae4b6120119e3df54'}, {u'url': u'Eddie Izzard', u'image': u'http://media.lasvegasweekly.com/img/events/2015/10001463_10152384107910362_2144449713_n_r60x60.png?22ab6d220e771bcc7b37fabae4b6120119e3df54'}, {u'url': u\"First Anniversary Weekend at Drai's\"}, {u'url': u'Omnia Sundays', u'image': u'http://media.lasvegasweekly.com/img/events/2015/10704191_744695555621292_7274683388995220108_n_1_r60x60.png?22ab6d220e771bcc7b37fabae4b6120119e3df54'}, {u'url': u'Eddie Izzard', u'image': u'http://media.lasvegasweekly.com/img/events/2015/10001463_10152384107910362_2144449713_n_r60x60.png?22ab6d220e771bcc7b37fabae4b6120119e3df54'}, {u'url': u'Temptation Sunday', u'image': u'http://media.lasvegasweekly.com/img/events/2015/Screen_Shot_2015-05-13_at_11.59.16_AM_r60x60.png?22ab6d220e771bcc7b37fabae4b6120119e3df54'}], u'geocoordinates': [{u'latitude': u'36.158874', u'longitude': u'-115.165459'}, {u'latitude': u'36.101057', u'longitude': u'-115.201804'}]}, u'snippet': u\"Jan 11, 2015 ... When Billy Johnson announced in late December that he was leaving ... \\u201cUMC is \\nan amazing asset in this county, and that's why I took the job,\\u201d said ... Strip \\nScribbles: 'Master Chef' challenge \\u2014 feed 101 L.V. stars; Suzanne\\xa0...\", u'htmlSnippet': u'Jan 11, 2015 <b>...</b> When <b>Billy</b> Johnson announced in late December that he was leaving ... \\u201cUMC is <br>\\nan amazing <b>asset</b> in this county, and that&#39;s why I took the job,\\u201d said ... Strip <br>\\nScribbles: &#39;<b>Master</b> Chef&#39; challenge \\u2014 feed 101 L.V. stars; Suzanne&nbsp;...', u'link': u'http://lasvegassun.com/blogs/kats-report/2015/jan/11/billy-johnson-new-goal-nothing-to-do-with-hockey-/', u'cacheId': u'NqkZMOK5pWwJ'}, {u'kind': u'customsearch#result', u'title': u\"'Once,' the Musical, at New York Theater Workshop - Review - The ...\", u'displayLink': u'www.nytimes.com', u'htmlTitle': u'&#39;Once,&#39; the Musical, at New York Theater Workshop - Review - The <b>...</b>', u'formattedUrl': u'www.nytimes.com/.../once-the-musical-at-new-york-theater-workshop- review.html', u'htmlFormattedUrl': u'www.nytimes.com/.../once-the-musical-at-new-york-theater-workshop- review.html', u'pagemap': {u'hreview': [{u'dtreviewed': u'2011-12-06', u'description': u'Charm is fragile. What\\u2019s enchanting in one context, subjected to stress, exaggeration or self-consciousness, can seem soppy or strident in another.'}], u'metatags': [{u'applicationname': u'article', u'twitter:app:name:googleplay': u'NYTimes', u'tone': u'feature', u'edt': u'NewYork', u'ptime': u'20111206220118', u'scg': u'reviews', u'cg': u'theater', u'sourceapp': u'nyt-v5', u'article:published': u'2011-12-06', u'hdl_p': u'A Love Affair With Music, Maybe With Each Other', u'sectionfront_jsonp': u'http://json8.nytimes.com/services/json/sectionfronts/theater/index.jsonp', u'usageterms': u'http://www.nytimes.com/content/help/rights/sale/terms-of-sale.html', u'twitter:app:url:googleplay': u'nytimes://reader/id/100000001210690', u'fb:app_id': u'9869919170', u'og:url': u'http://www.nytimes.com/2011/12/07/theater/reviews/once-the-musical-at-new-york-theater-workshop-review.html', u'twitter:url': u'http://www.nytimes.com/2011/12/07/theater/reviews/once-the-musical-at-new-york-theater-workshop-review.html', u'pt': u'article', u'author': u'Ben Brantley', u'og:type': u'article', u'al:android:package': u'com.nytimes.android', u'byl': u'By BEN BRANTLEY', u'article:section-taxonomy-id': u'21D5B838-29CC-46D3-9006-879CAABC8F08', u'viewport': u'width=device-width, initial-scale=1, maximum-scale=1', u'lp': u'The talented creators of \\u201cOnce,\\u201d a musical inspired by the 2006 film starring Glen Hansard and Marketa Irglova, faced a big problem that they\\u2019ve only partly resolved.', u'tom': u'Review', u'twitter:title': u'\\u2018Once,\\u2019 the Musical, at New York Theater Workshop - Review', u'article:tag': u'Theater', u'article:section': u'Theater Reviews', u'og:title': u'\\u2018Once,\\u2019 the Musical, at New York Theater Workshop - Review', u'cre': u'The New York Times', u'article:author': u'http://topics.nytimes.com/top/reference/timestopics/people/b/ben_brantley/index.html', u'dat': u'Dec. 6, 2011', u'msapplication-starturl': u'http://www.nytimes.com', u'al:android:app_name': u'NYTimes', u'twitter:app:id:googleplay': u'com.nytimes.android', u'og:image': u'http://static01.nyt.com/images/2011/12/07/arts/ONCE/ONCE-thumbStandard.jpg', u'slug': u'07once', u'pst': u'Review', u'utime': u'20140901000750', u'pdate': u'20111206', u'twitter:description': u'The talented creators of \\u201cOnce,\\u201d a musical inspired by the 2006 film starring Glen Hansard and Marketa Irglova, faced a big problem that they\\u2019ve only partly resolved.', u'des': u'Theater', u'og:description': u'The talented creators of \\u201cOnce,\\u201d a musical inspired by the 2006 film starring Glen Hansard and Marketa Irglova, faced a big problem that they\\u2019ve only partly resolved.', u'articleid': u'100000001210690', u'displaydate': u'Dec. 6, 2011', u'article:collection': u'http://json8.nytimes.com/services/json/sectionfronts/theater/index.jsonp', u'al:android:url': u'nytimes://reader/id/100000001210690', u'hdl': u'\\u2018Once,\\u2019 the Musical, at New York Theater Workshop - Review', u'col': u\"Theater Review | 'Once'\"}], u'review': [{u'reviewer': u'BEN BRANTLEY', u'reviewdate': u'2011-12-06'}, {u'inlanguage': u'en-US', u'identifier': u'100000001210690', u'description': u'The talented creators of \\u201cOnce,\\u201d a musical inspired by the 2006 film starring Glen Hansard and Marketa Irglova, faced a big problem that they\\u2019ve only partly resolved.', u'copyrightyear': u'2015', u'headline': u'A Love Affair With Music, Maybe With Each Other', u'printedition': u'New York edition', u'reviewbody': u'Charm is fragile. What\\u2019s enchanting in one context, subjected to stress, exaggeration or self-consciousness, can seem soppy or strident in another.', u'datepublished': u'2011-12-06', u'alternativeheadline': u'A Love Affair With Music, Maybe With Each Other', u'usageterms': u'http://www.nytimes.com/content/help/rights/sale/terms-of-sale.html', u'genre': u'Review', u'articlesection': u'Theater Reviews', u'thumbnailurl': u'http://static01.nyt.com/images/2011/12/07/arts/ONCE/ONCE-thumbStandard.jpg', u'copyrightnotice': u'\\xa9 2015 The New York Times Company', u'datemodified': u'2014-09-01', u'itemreviewed': u'Once'}], u'imageobject': [{u'description': u'Once Steve Kazee and Cristin Milioti portray the Guy and the Girl in this musical at the New York Theater Workshop, inspired by the movie of the same title. Credit Sara Krulwich/The New York Times', u'width': u'600', u'url': u'http://static01.nyt.com/images/2011/12/07/arts/ONCE/ONCE-articleLarge.jpg', u'height': u'347', u'caption': u'Once Steve Kazee and Cristin Milioti portray the Guy and the Girl in this musical at the New York Theater Workshop, inspired by the movie of the same title. Credit Sara Krulwich/The New York Times', u'copyrightholder': u'Credit Sara Krulwich/The New York Times'}, {u'description': u'Steve Kazee, standing at the microphone, with other members of the \\u201cOnce\\u201d cast. Credit Sara Krulwich/The New York Times', u'width': u'650', u'url': u'http://static01.nyt.com/images/2011/12/07/arts/jump-once/jump-once-popup.jpg', u'height': u'456', u'caption': u'Steve Kazee, standing at the microphone, with other members of the \\u201cOnce\\u201d cast. Credit Sara Krulwich/The New York Times', u'copyrightholder': u'Credit Sara Krulwich/The New York Times'}], u'person': [{u'name': u'BEN BRANTLEY'}], u'organization': [{u'name': u'The New York Times Company', u'tickersymbol': u'NYSE NYT'}], u'postaladdress': [{u'address': u'79 E. Fourth St.'}], u'cse_thumbnail': [{u'width': u'71', u'height': u'71', u'src': u'https://encrypted-tbn3.gstatic.com/images?q=tbn:ANd9GcTUi8czT0FECpqBagX53gn7su7iDb7RdFwuLsth7vJpW1jBZxrYfmKs'}], u'cse_image': [{u'src': u'http://static01.nyt.com/images/2011/12/07/arts/ONCE/ONCE-thumbStandard.jpg'}], u'theaterevent': [{u'enddate': u'Closing: January 15, 2012', u'name': u'Once', u'telephone': u'212-780-9037'}]}, u'snippet': u'Dec 6, 2011 ... Subtlety, for instance, has never been considered an asset in musicals. ... \\nregiment in Iraq, Mr. Tiffany and Mr. Hoggett are masters of surprising stagecraft. \\n... Billy (Paul Whitty), a piano store owner, is a lovable blowhard who\\xa0...', u'htmlSnippet': u'Dec 6, 2011 <b>...</b> Subtlety, for instance, has never been considered an <b>asset</b> in musicals. ... <br>\\nregiment in Iraq, Mr. Tiffany and Mr. Hoggett are <b>masters</b> of surprising stagecraft. <br>\\n... <b>Billy</b> (Paul Whitty), a piano store owner, is a lovable blowhard who&nbsp;...', u'link': u'http://www.nytimes.com/2011/12/07/theater/reviews/once-the-musical-at-new-york-theater-workshop-review.html'}, {u'kind': u'customsearch#result', u'title': u'About Us - Ferguson Veresh Inc, Wichita Falls, TX 36301 - Carrier', u'displayLink': u'www.fergusonveresh.com', u'htmlTitle': u'About Us - Ferguson Veresh Inc, Wichita Falls, TX 36301 - Carrier', u'formattedUrl': u'www.fergusonveresh.com/about-us.php/contact-us.php', u'htmlFormattedUrl': u'www.fergusonveresh.com/about-us.php/contact-us.php', u'pagemap': {u'metatags': [{u'msvalidate.01': u'14FD3CA4112DCA87BDB7EFDC76C1B6DE'}], u'organization': [{u'url': u'http://www.fergusonveresh.com/about-us.php/index.php', u'logo': u'http://www.fergusonveresh.com/about-us.php/images/logo.png'}], u'postaladdress': [{u'addresslocality': u'Wichita Falls', u'addressregion': u'TX', u'streetaddress': u'703 East Scott', u'postalcode': u'36301'}], u'hvacbusiness': [{u'telephone': u'940-692-4600', u'email': u'Contact@fergusonveresh.com', u'name': u'Ferguson Veresh Inc'}]}, u'snippet': u'Mike had served in the United States Air Force as a Master Instructor in .... Look \\nCollege of Engineering, Shane FitzHenry is an asset to the Ferguson Veresh \\nteam. ... Our Master Plumber, Billy Link, began his work in the plumbing field as \\nan\\xa0...', u'htmlSnippet': u'Mike had served in the United States Air Force as a <b>Master</b> Instructor in .... Look <br>\\nCollege of Engineering, Shane FitzHenry is an <b>asset</b> to the Ferguson Veresh <br>\\nteam. ... Our <b>Master</b> Plumber, <b>Billy</b> Link, began his work in the plumbing field as <br>\\nan&nbsp;...', u'link': u'http://www.fergusonveresh.com/about-us.php/contact-us.php', u'cacheId': u'YJUoDCxTADQJ'}, {u'kind': u'customsearch#result', u'title': u'Frisco Bankruptcy Lawyers - Compare Top Bankruptcy Attorneys in ...', u'displayLink': u'www.justia.com', u'htmlTitle': u'Frisco Bankruptcy Lawyers - Compare Top Bankruptcy Attorneys in <b>...</b>', u'formattedUrl': u'https://www.justia.com/lawyers/bankruptcy-and-debt/texas/frisco', u'htmlFormattedUrl': u'https://www.justia.com/lawyers/bankruptcy-and-debt/texas/frisco', u'pagemap': {u'city': [{u'name': u'Frisco'}], u'collegeoruniversity': [{u'name': u'Oklahoma City University School of Law - Oklahoma City University'}, {u'name': u'Valparaiso University'}, {u'name': u'Texas Southern University'}, {u'name': u'Thomas M. Cooley Law School'}, {u'name': u'Oklahoma City University'}, {u'name': u'Texas Wesleyan University School of Law - Texas Wesleyan University'}, {u'name': u'Paul M. Hebert Law Center - Louisiana State University'}, {u'name': u'Thomas M. Cooley Law School'}, {u'name': u'Golden Gate University School of Law'}, {u'name': u'Pepperdine University School of Law - Pepperdine University'}, {u'name': u'Southern Methodist University'}], u'hcard': [{u'url': u'https://lawyers.justia.com/lawyer/kevin-w-chern-esq-1482201', u'fn': u'Kevin W. Chern Esq.'}, {u'url': u'https://lawyers.justia.com/lawyer/mark-rubin-1497730', u'photo': u'https://justatic.com/profile-images/1497730-1398226879-l.jpg', u'fn': u'Mark Rubin'}, {u'url': u'https://lawyers.justia.com/lawyer/darryl-v-pratt-287380', u'photo': u'https://justatic.com/profile-images/287380-117899561-l.jpg', u'fn': u'Darryl V. Pratt'}, {u'url': u'https://lawyers.justia.com/lawyer/kyle-logan-doviken-313222', u'photo': u'https://justatic.com/v/20150511a/jld/images/listings/no-picture-listings.png', u'fn': u'Kyle Logan Doviken'}, {u'url': u'https://lawyers.justia.com/lawyer/billy-leonard-jr-233608', u'photo': u'https://justatic.com/v/20150511a/jld/images/listings/no-picture-listings.png', u'fn': u'Billy Leonard Jr'}, {u'url': u'https://lawyers.justia.com/lawyer/boe-martin-301613', u'photo': u'https://justatic.com/v/20150511a/jld/images/listings/no-picture-listings.png', u'fn': u'Boe Martin'}, {u'url': u'https://lawyers.justia.com/lawyer/julie-anne-landen-294741', u'photo': u'https://justatic.com/v/20150511a/jld/images/listings/no-picture-listings.png', u'fn': u'Julie Anne Landen'}, {u'url': u'https://lawyers.justia.com/lawyer/sarah-ann-meador-282476', u'photo': u'https://justatic.com/v/20150511a/jld/images/listings/no-picture-listings.png', u'fn': u'Sarah Ann Meador'}, {u'url': u'https://lawyers.justia.com/lawyer/anthony-wayne-reed-302150', u'photo': u'https://justatic.com/v/20150511a/jld/images/listings/no-picture-listings.png', u'fn': u'Anthony Wayne Reed'}, {u'url': u'https://lawyers.justia.com/lawyer/john-pfister-jr-229358', u'photo': u'https://justatic.com/v/20150511a/jld/images/listings/no-picture-listings.png', u'fn': u'John Pfister Jr'}, {u'url': u'https://lawyers.justia.com/lawyer/shelly-kaye-shilling-278996', u'photo': u'https://justatic.com/v/20150511a/jld/images/listings/no-picture-listings.png', u'fn': u'Shelly Kaye Shilling'}, {u'url': u'https://lawyers.justia.com/lawyer/michael-r-sices-1485585', u'photo': u'https://justatic.com/profile-images/1485585-2112209970-l.JPG', u'fn': u'Michael R. Sices'}, {u'url': u'https://lawyers.justia.com/lawyer/seth-crosland-1486518', u'photo': u'https://justatic.com/v/20150511a/jld/images/listings/no-picture-listings.png', u'fn': u'Seth Crosland'}, {u'url': u'https://lawyers.justia.com/lawyer/alisha-melvin-1489530', u'photo': u'https://justatic.com/profile-images/1489530-1431022804-l.jpg', u'fn': u'Alisha Melvin'}, {u'url': u'https://lawyers.justia.com/lawyer/susan-johnson-foster-300472', u'photo': u'https://justatic.com/v/20150511a/jld/images/listings/no-picture-listings.png', u'fn': u'Susan Johnson Foster'}, {u'url': u'https://lawyers.justia.com/lawyer/ralph-wheatly-267673', u'photo': u'https://justatic.com/v/20150511a/jld/images/listings/no-picture-listings.png', u'fn': u'Ralph Wheatly'}, {u'url': u'https://lawyers.justia.com/lawyer/john-kendrick-turner-254579', u'photo': u'https://justatic.com/v/20150511a/jld/images/listings/no-picture-listings.png', u'fn': u'John Kendrick Turner'}, {u'url': u'https://lawyers.justia.com/lawyer/willie-l-will-marsaw-251433', u'photo': u'https://justatic.com/v/20150511a/jld/images/listings/no-picture-listings.png', u'fn': u'Willie L. \"Will\" Marsaw'}, {u'url': u'https://lawyers.justia.com/lawyer/rex-ronald-henger-209666', u'photo': u'https://justatic.com/v/20150511a/jld/images/listings/no-picture-listings.png', u'fn': u'Rex Ronald Henger'}, {u'url': u'https://lawyers.justia.com/lawyer/james-patrick-ray-247465', u'photo': u'https://justatic.com/v/20150511a/jld/images/listings/no-picture-listings.png', u'fn': u'James Patrick Ray'}, {u'url': u'https://lawyers.justia.com/lawyer/joanne-williams-726478', u'photo': u'https://justatic.com/v/20150511a/jld/images/listings/no-picture-listings.png', u'fn': u'JoAnne Williams'}, {u'url': u'https://lawyers.justia.com/lawyer/randy-ford-taub-253551', u'photo': u'https://justatic.com/v/20150511a/jld/images/listings/no-picture-listings.png', u'fn': u'Randy Ford Taub'}, {u'url': u'https://lawyers.justia.com/lawyer/merrill-lane-kaliser-228764', u'photo': u'https://justatic.com/v/20150511a/jld/images/listings/no-picture-listings.png', u'fn': u'Merrill Lane Kaliser'}, {u'url': u'https://lawyers.justia.com/lawyer/laura-dianne-richardson-harris-277654', u'photo': u'https://justatic.com/v/20150511a/jld/images/listings/no-picture-listings.png', u'fn': u'Laura Dianne Richardson-Harris'}, {u'url': u'https://lawyers.justia.com/lawyer/steve-watson-327033', u'photo': u'https://justatic.com/v/20150511a/jld/images/listings/no-picture-listings.png', u'fn': u'Steve Watson'}, {u'url': u'https://lawyers.justia.com/lawyer/larry-kent-hercules-287883', u'photo': u'https://justatic.com/v/20150511a/jld/images/listings/no-picture-listings.png', u'fn': u'Larry Kent Hercules'}, {u'url': u'https://lawyers.justia.com/lawyer/gregory-todd-220827', u'photo': u'https://justatic.com/v/20150511a/jld/images/listings/no-picture-listings.png', u'fn': u'Gregory Todd'}, {u'url': u'https://lawyers.justia.com/lawyer/sean-joseph-mccaffity-263492', u'photo': u'https://justatic.com/v/20150511a/jld/images/listings/no-picture-listings.png', u'fn': u'Sean Joseph McCaffity'}, {u'url': u'https://lawyers.justia.com/lawyer/michael-suffness-293036', u'photo': u'https://justatic.com/v/20150511a/jld/images/listings/no-picture-listings.png', u'fn': u'Michael Suffness'}, {u'url': u'https://lawyers.justia.com/lawyer/leonid-murashkovskiy-1495448', u'photo': u'https://justatic.com/v/20150511a/jld/images/listings/no-picture-listings.png', u'fn': u'Leonid Murashkovskiy'}, {u'url': u'https://lawyers.justia.com/lawyer/william-kennedy-1494603', u'photo': u'https://justatic.com/profile-images/1494603-717379612-l.jpg', u'fn': u'William Kennedy'}, {u'url': u'https://lawyers.justia.com/lawyer/aimee-manriquez-1496843', u'photo': u'https://justatic.com/profile-images/1496843-1390321628-l.jpg', u'fn': u'Aimee Manriquez'}, {u'url': u'https://lawyers.justia.com/lawyer/hershel-chapin-1488676', u'photo': u'https://justatic.com/profile-images/1488676-825959406-l.jpg', u'fn': u'Hershel Chapin'}, {u'url': u'https://lawyers.justia.com/lawyer/scott-william-lemke-249460', u'photo': u'https://justatic.com/profile-images/249460-1400539472-l.jpg', u'fn': u'Scott William Lemke'}, {u'url': u'https://lawyers.justia.com/lawyer/nathan-steven-graham-1491430', u'photo': u'https://justatic.com/profile-images/1491430-1336475717-l.jpg', u'fn': u'Nathan Steven Graham'}, {u'url': u'https://lawyers.justia.com/lawyer/christopher-migliaccio-212736', u'photo': u'https://justatic.com/profile-images/212736-164172401-l.jpg', u'fn': u'Christopher Migliaccio'}, {u'url': u'https://lawyers.justia.com/lawyer/matthew-sheasby-1481393', u'photo': u'https://justatic.com/profile-images/1481393-1413091168-l.jpg', u'fn': u'Matthew Sheasby'}, {u'url': u'https://lawyers.justia.com/lawyer/robert-t-demarco-iii-1502623', u'photo': u'https://justatic.com/profile-images/1502623-1429147867-l.jpg', u'fn': u'Robert T DeMarco III'}, {u'url': u'https://lawyers.justia.com/lawyer/david-daniel-cook-1492552', u'photo': u'https://justatic.com/profile-images/1492552-1072206245-l.jpg', u'fn': u'David Daniel Cook'}, {u'url': u'https://lawyers.justia.com/lawyer/ann-rochelle-999085', u'photo': u'https://justatic.com/v/20150511a/jld/images/listings/no-picture-listings.png', u'fn': u'Ann Rochelle'}, {u'url': u'https://lawyers.justia.com/lawyer/scott-douglas-marquardt-250469', u'photo': u'https://justatic.com/v/20150511a/jld/images/listings/no-picture-listings.png', u'fn': u'Scott Douglas Marquardt'}], u'metatags': [{u'og:url': u'https://www.justia.com/lawyers/bankruptcy-and-debt/texas/frisco', u'twitter:url': u'https://www.justia.com/lawyers/bankruptcy-and-debt/texas/frisco', u'twitter:domain': u'www.justia.com', u'twitter:image': u'https://static.justia.com/images/justia-social.png', u'twitter:description': u'Compare 189 bankruptcy attorneys serving Frisco, Texas on Justia. Comprehensive profiles including fees, education, jurisdictions, awards, publications and social media.', u'og:type': u'website', u'og:description': u'Compare 189 bankruptcy attorneys serving Frisco, Texas on Justia. Comprehensive profiles including fees, education, jurisdictions, awards, publications and social media.', u'twitter:site': u'@JustiaCom', u'og:title': u'Frisco Bankruptcy Lawyers - Compare Top Bankruptcy Attorneys in Frisco, Texas - Justia', u'twitter:card': u'summary', u'twitter:title': u'Frisco Bankruptcy Lawyers - Compare Top Bankruptcy Attorneys in Frisco, Texas - Justia', u'og:image': u'https://static.justia.com/images/justia-social.png', u'viewport': u'width=device-width, initial-scale=1.0'}], u'state': [{u'name': u'Texas'}], u'person': [{u'location': u'Frisco TX'}, {u'url': u'Kevin W. Chern Esq.', u'name': u'Kevin W. Chern Esq.'}, {u'url': u'Mark Rubin', u'image': u'https://justatic.com/profile-images/1497730-1398226879-l.jpg', u'name': u'Mark Rubin'}, {u'url': u'Darryl V. Pratt', u'image': u'https://justatic.com/profile-images/287380-117899561-l.jpg', u'name': u'Darryl V. Pratt'}, {u'url': u'Kyle Logan Doviken', u'image': u'https://justatic.com/v/20150511a/jld/images/listings/no-picture-listings.png', u'name': u'Kyle Logan Doviken'}, {u'url': u'Billy Leonard Jr', u'image': u'https://justatic.com/v/20150511a/jld/images/listings/no-picture-listings.png', u'name': u'Billy Leonard Jr'}, {u'url': u'Boe Martin', u'image': u'https://justatic.com/v/20150511a/jld/images/listings/no-picture-listings.png', u'name': u'Boe Martin'}, {u'url': u'Julie Anne Landen', u'image': u'https://justatic.com/v/20150511a/jld/images/listings/no-picture-listings.png', u'name': u'Julie Anne Landen'}, {u'url': u'Sarah Ann Meador', u'image': u'https://justatic.com/v/20150511a/jld/images/listings/no-picture-listings.png', u'name': u'Sarah Ann Meador'}, {u'url': u'Anthony Wayne Reed', u'image': u'https://justatic.com/v/20150511a/jld/images/listings/no-picture-listings.png', u'name': u'Anthony Wayne Reed'}, {u'url': u'John Pfister Jr', u'image': u'https://justatic.com/v/20150511a/jld/images/listings/no-picture-listings.png', u'name': u'John Pfister Jr'}, {u'url': u'Shelly Kaye Shilling', u'image': u'https://justatic.com/v/20150511a/jld/images/listings/no-picture-listings.png', u'name': u'Shelly Kaye Shilling'}, {u'url': u'Michael R. Sices', u'image': u'https://justatic.com/profile-images/1485585-2112209970-l.JPG', u'name': u'Michael R. Sices'}, {u'url': u'Seth Crosland', u'image': u'https://justatic.com/v/20150511a/jld/images/listings/no-picture-listings.png', u'name': u'Seth Crosland'}, {u'url': u'Alisha Melvin', u'image': u'https://justatic.com/profile-images/1489530-1431022804-l.jpg', u'name': u'Alisha Melvin'}, {u'url': u'Susan Johnson Foster', u'image': u'https://justatic.com/v/20150511a/jld/images/listings/no-picture-listings.png', u'name': u'Susan Johnson Foster'}, {u'url': u'Ralph Wheatly', u'image': u'https://justatic.com/v/20150511a/jld/images/listings/no-picture-listings.png', u'name': u'Ralph Wheatly'}, {u'url': u'John Kendrick Turner', u'image': u'https://justatic.com/v/20150511a/jld/images/listings/no-picture-listings.png', u'name': u'John Kendrick Turner'}, {u'url': u'Willie L. \"Will\" Marsaw', u'image': u'https://justatic.com/v/20150511a/jld/images/listings/no-picture-listings.png', u'name': u'Willie L. \"Will\" Marsaw'}, {u'url': u'Rex Ronald Henger', u'image': u'https://justatic.com/v/20150511a/jld/images/listings/no-picture-listings.png', u'name': u'Rex Ronald Henger'}, {u'url': u'James Patrick Ray', u'image': u'https://justatic.com/v/20150511a/jld/images/listings/no-picture-listings.png', u'name': u'James Patrick Ray'}, {u'url': u'JoAnne Williams', u'image': u'https://justatic.com/v/20150511a/jld/images/listings/no-picture-listings.png', u'name': u'JoAnne Williams'}, {u'url': u'Randy Ford Taub', u'image': u'https://justatic.com/v/20150511a/jld/images/listings/no-picture-listings.png', u'name': u'Randy Ford Taub'}, {u'url': u'Merrill Lane Kaliser', u'image': u'https://justatic.com/v/20150511a/jld/images/listings/no-picture-listings.png', u'name': u'Merrill Lane Kaliser'}, {u'url': u'Laura Dianne Richardson-Harris', u'image': u'https://justatic.com/v/20150511a/jld/images/listings/no-picture-listings.png', u'name': u'Laura Dianne Richardson-Harris'}, {u'url': u'Steve Watson', u'image': u'https://justatic.com/v/20150511a/jld/images/listings/no-picture-listings.png', u'name': u'Steve Watson'}, {u'url': u'Larry Kent Hercules', u'image': u'https://justatic.com/v/20150511a/jld/images/listings/no-picture-listings.png', u'name': u'Larry Kent Hercules'}, {u'url': u'Gregory Todd', u'image': u'https://justatic.com/v/20150511a/jld/images/listings/no-picture-listings.png', u'name': u'Gregory Todd'}, {u'url': u'Sean Joseph McCaffity', u'image': u'https://justatic.com/v/20150511a/jld/images/listings/no-picture-listings.png', u'name': u'Sean Joseph McCaffity'}, {u'url': u'Michael Suffness', u'image': u'https://justatic.com/v/20150511a/jld/images/listings/no-picture-listings.png', u'name': u'Michael Suffness'}, {u'url': u'Leonid Murashkovskiy', u'image': u'https://justatic.com/v/20150511a/jld/images/listings/no-picture-listings.png', u'name': u'Leonid Murashkovskiy'}, {u'url': u'William Kennedy', u'image': u'https://justatic.com/profile-images/1494603-717379612-l.jpg', u'name': u'William Kennedy'}, {u'url': u'Aimee Manriquez', u'image': u'https://justatic.com/profile-images/1496843-1390321628-l.jpg', u'name': u'Aimee Manriquez'}, {u'url': u'Hershel Chapin', u'image': u'https://justatic.com/profile-images/1488676-825959406-l.jpg', u'name': u'Hershel Chapin'}, {u'url': u'Scott William Lemke', u'image': u'https://justatic.com/profile-images/249460-1400539472-l.jpg', u'name': u'Scott William Lemke'}, {u'url': u'Nathan Steven Graham', u'image': u'https://justatic.com/profile-images/1491430-1336475717-l.jpg', u'name': u'Nathan Steven Graham'}, {u'url': u'Christopher Migliaccio', u'image': u'https://justatic.com/profile-images/212736-164172401-l.jpg', u'name': u'Christopher Migliaccio'}, {u'url': u'Matthew Sheasby', u'image': u'https://justatic.com/profile-images/1481393-1413091168-l.jpg', u'name': u'Matthew Sheasby'}, {u'url': u'Robert T DeMarco III', u'image': u'https://justatic.com/profile-images/1502623-1429147867-l.jpg', u'name': u'Robert T DeMarco III'}, {u'url': u'David Daniel Cook', u'image': u'https://justatic.com/profile-images/1492552-1072206245-l.jpg', u'name': u'David Daniel Cook'}, {u'url': u'Ann Rochelle', u'image': u'https://justatic.com/v/20150511a/jld/images/listings/no-picture-listings.png', u'name': u'Ann Rochelle'}, {u'url': u'Scott Douglas Marquardt', u'image': u'https://justatic.com/v/20150511a/jld/images/listings/no-picture-listings.png', u'name': u'Scott Douglas Marquardt'}], u'localbusiness': [{u'telephone': u'(888) 979-9742'}, {u'telephone': u'(214) 747-4004'}, {u'telephone': u'(214) 760-7777'}, {u'telephone': u'(817) 335-9999'}, {u'telephone': u'(972) 712-1515'}, {u'telephone': u'(469) 287-3908'}, {u'telephone': u'(214) 740-1433'}, {u'telephone': u'(972) 712-1515'}, {u'telephone': u'(972) 731-4380'}, {u'telephone': u'(972) 712-6700'}, {u'telephone': u'(972) 333-8609'}, {u'telephone': u'(972) 914-8372'}, {u'telephone': u'(972) 499-8129'}, {u'telephone': u'(800) 764-9502'}, {u'telephone': u'(972) 991-1606'}, {u'telephone': u'(469) 467-5309'}, {u'telephone': u'(469) 467-5338'}, {u'telephone': u'(214) 373-4494'}, {u'telephone': u'(972) 334-2254'}, {u'telephone': u'(214) 907-6353'}, {u'telephone': u'(972) 678-2950'}, {u'telephone': u'(972) 378-9111'}, {u'telephone': u'(972) 985-4448'}, {u'telephone': u'(469) 519-2740'}, {u'telephone': u'(972) 964-9757'}, {u'telephone': u'(972) 484-6544'}, {u'telephone': u'(972) 735-9109'}, {u'telephone': u'(972) 985-1331'}, {u'telephone': u'(972) 380-5630'}, {u'telephone': u'(972) 939-4878'}, {u'telephone': u'(972) 533-4255'}, {u'telephone': u'(972) 361-8439'}, {u'telephone': u'(972) 562-1210'}, {u'telephone': u'(972) 562-1210'}, {u'telephone': u'(972) 353-4600'}, {u'telephone': u'(940) 387-5300'}, {u'telephone': u'(972) 353-4600'}, {u'telephone': u'(972) 600-2680'}, {u'telephone': u'(214) 307-4700'}, {u'telephone': u'(972) 578-1400'}, {u'telephone': u'(214) 236-2712'}, {u'telephone': u'(972) 369-1000'}, {u'telephone': u'(469) 791-5989'}], u'postaladdress': [{u'addresslocality': u'Frisco', u'addressregion': u'TX', u'streetaddress': u'2591 Dallas Pkwy #300', u'postalcode': u'75034', u'name': u'Frisco Office'}, {u'addresslocality': u'Dallas', u'addressregion': u'TX', u'streetaddress': u'13601 Preston Road Suite 500E', u'postalcode': u'75240', u'name': u'Main Office'}, {u'addresslocality': u'Fort Worth', u'addressregion': u'TX', u'streetaddress': u'1201 East Belknap', u'postalcode': u'76012', u'name': u'Fort Worth Office'}, {u'addresslocality': u'Frisco', u'addressregion': u'TX', u'streetaddress': u'2500 Legacy Drive, Suite 228', u'postalcode': u'75034', u'name': u'Collin County'}, {u'addresslocality': u'Frisco', u'addressregion': u'TX', u'streetaddress': u'1592 San Andres Dr', u'postalcode': u'75034'}, {u'addresslocality': u'Frisco', u'addressregion': u'TX', u'streetaddress': u'2801 Network Blvd', u'postalcode': u'75034'}, {u'addresslocality': u'Frisco', u'addressregion': u'TX', u'streetaddress': u'3232 N Dallas Pkwy', u'postalcode': u'75034'}, {u'addresslocality': u'Frisco', u'addressregion': u'TX', u'streetaddress': u'2811 Internet Blvd', u'postalcode': u'75034'}, {u'addresslocality': u'Frisco', u'addressregion': u'TX', u'streetaddress': u'2595 Dallas Pkwy', u'postalcode': u'75034'}, {u'addresslocality': u'Frisco', u'addressregion': u'TX', u'streetaddress': u'2591 Dallas Pkwy', u'postalcode': u'75034'}, {u'addresslocality': u'Frisco', u'addressregion': u'TX', u'streetaddress': u'2591 Dallas Pkwy', u'postalcode': u'75034'}, {u'addresslocality': u'Frisco', u'addressregion': u'TX', u'streetaddress': u'2591 N Dallas Pkwy', u'postalcode': u'75034'}, {u'addresslocality': u'Allen', u'addressregion': u'TX', u'streetaddress': u'825 Market St. Bldg. M, Suite 250', u'postalcode': u'75013'}, {u'addresslocality': u'Plano', u'addressregion': u'TX', u'streetaddress': u'1400 Preston Road Suite 400', u'postalcode': u'75093'}, {u'addresslocality': u'Allen', u'addressregion': u'TX', u'streetaddress': u'1314 W McDermott Dr. Suite 106513', u'postalcode': u'75013', u'name': u'Melvin & Associates PLLC'}, {u'addresslocality': u'Plano', u'addressregion': u'TX', u'streetaddress': u'5800 Granite Pkwy', u'postalcode': u'75024'}, {u'addresslocality': u'Plano', u'addressregion': u'TX', u'streetaddress': u'6000 Legacy Dr', u'postalcode': u'75024'}, {u'addresslocality': u'Plano', u'addressregion': u'TX', u'streetaddress': u'6000 Legacy Dr', u'postalcode': u'75024'}, {u'addresslocality': u'Plano', u'addressregion': u'TX', u'streetaddress': u'8000 Coit Rd', u'postalcode': u'75025'}, {u'addresslocality': u'Little Elm', u'addressregion': u'TX', u'streetaddress': u'800 W Eldorado Pkwy', u'postalcode': u'75068'}, {u'addresslocality': u'Plano', u'addressregion': u'TX', u'streetaddress': u'7701 Legacy Dr', u'postalcode': u'75024'}, {u'addresslocality': u'Plano', u'addressregion': u'TX', u'streetaddress': u'5808 Morning Glory Ln', u'postalcode': u'75093'}, {u'addresslocality': u'Allen', u'addressregion': u'TX', u'streetaddress': u'1004 Crystal Springs Dr', u'postalcode': u'75013'}, {u'addresslocality': u'Plano', u'addressregion': u'TX', u'streetaddress': u'2805 Dallas Pkwy', u'postalcode': u'75093'}, {u'addresslocality': u'Plano', u'addressregion': u'TX', u'streetaddress': u'2317 Coit Rd', u'postalcode': u'75075'}, {u'addresslocality': u'Allen', u'addressregion': u'TX', u'streetaddress': u'1333 W McDermott Dr', u'postalcode': u'75013'}, {u'addresslocality': u'Plano', u'addressregion': u'TX', u'streetaddress': u'1400 Preston Rd', u'postalcode': u'75093'}, {u'addresslocality': u'Plano', u'addressregion': u'TX', u'streetaddress': u'1316 Village Creek Dr', u'postalcode': u'75093'}, {u'addresslocality': u'Plano', u'addressregion': u'TX', u'streetaddress': u'5068 W Plano Pkwy', u'postalcode': u'75093'}, {u'addresslocality': u'Plano', u'addressregion': u'TX', u'streetaddress': u'5201 W Park Blvd', u'postalcode': u'75093'}, {u'addresslocality': u'Addison', u'addressregion': u'TX', u'streetaddress': u'16801 Addison Rd #124', u'postalcode': u'75001'}, {u'addresslocality': u'Carrollton', u'addressregion': u'TX', u'streetaddress': u'4125 Fairway Dr. Suite 132', u'postalcode': u'75010'}, {u'addresslocality': u'Carrollton', u'addressregion': u'TX', u'streetaddress': u'2340 E. Trinity Mills Suite 300', u'postalcode': u'75006'}, {u'addresslocality': u'Dallas', u'addressregion': u'TX', u'streetaddress': u'15950 North Dallas Parkway, Suite 400', u'postalcode': u'75248'}, {u'addresslocality': u'McKinney', u'addressregion': u'TX', u'streetaddress': u'201 S McDonald St Ste E', u'postalcode': u'75069', u'name': u'Lemke & Pederson'}, {u'addresslocality': u'McKinney', u'addressregion': u'TX', u'postalcode': u'75069'}, {u'addresslocality': u'Lewisville', u'addressregion': u'TX', u'streetaddress': u'1660 S. Stemmons Freeway Suite 150', u'postalcode': u'75067', u'name': u'Lewisville, Texas Office'}, {u'addresslocality': u'Denton', u'addressregion': u'TX', u'streetaddress': u'121 N. Woodrow Lane Suite 105', u'postalcode': u'76205', u'name': u'Denton, Texas Office'}, {u'addresslocality': u'Dallas', u'addressregion': u'TX', u'streetaddress': u'8150 N. Central Expressway Suite 775', u'postalcode': u'75206', u'name': u'Dallas, Texas Office'}, {u'addresslocality': u'Richardson', u'addressregion': u'TX', u'streetaddress': u'3600 Shire Blvd Ste 205', u'postalcode': u'75082', u'name': u'Warren & Migliaccio, LLP Attorneys at Law'}, {u'addresslocality': u'Dallas', u'addressregion': u'TX', u'streetaddress': u'15150 Preston Rd #300', u'postalcode': u'75248', u'name': u'Dallas Preston Office'}, {u'addresslocality': u'Plano', u'addressregion': u'TX', u'streetaddress': u'1255 West 15th Street Suite 805', u'postalcode': u'75075', u'name': u'Plano Office'}, {u'addresslocality': u'Richardson', u'addressregion': u'TX', u'streetaddress': u'1202 Richardson Drive, Suite 310', u'postalcode': u'75080', u'name': u'Cook & Gore, PLLC'}, {u'addresslocality': u'Lewisville', u'addressregion': u'TX', u'streetaddress': u'405 state hwy 121 #A250', u'postalcode': u'75067'}, {u'addresslocality': u'Dallas', u'addressregion': u'TX', u'streetaddress': u'14001 Dallas Pkwy', u'postalcode': u'75240'}], u'cse_thumbnail': [{u'width': u'80', u'height': u'112', u'src': u'https://encrypted-tbn2.gstatic.com/images?q=tbn:ANd9GcQXpTlxThMlE1HOSkiaKgZN4Df3NPXk0glNGZmTFSsPfW9eb7IK_S8V'}], u'cse_image': [{u'src': u'https://justatic.com/profile-images/1497730-1398226879-l.jpg'}], u'geocoordinates': [{u'latitude': u'40.0653368', u'longitude': u'-83.0182269'}, {u'latitude': u'33.0998624', u'longitude': u'-96.8252005'}, {u'latitude': u'32.9331485', u'longitude': u'-96.8060236'}, {u'latitude': u'32.762187', u'longitude': u'-97.325259'}, {u'latitude': u'33.1002820', u'longitude': u'-96.8408089'}, {u'latitude': u'33.177562', u'longitude': u'-96.877647'}, {u'latitude': u'33.101605', u'longitude': u'-96.826649'}, {u'latitude': u'33.107777', u'longitude': u'-96.823018'}, {u'latitude': u'33.09975', u'longitude': u'-96.827923'}, {u'latitude': u'33.093748', u'longitude': u'-96.823273'}, {u'latitude': u'33.093639', u'longitude': u'-96.823273'}, {u'latitude': u'33.093639', u'longitude': u'-96.823273'}, {u'latitude': u'33.093639', u'longitude': u'-96.823273'}, {u'latitude': u'33.1128019', u'longitude': u'-96.6958939'}, {u'latitude': u'33.0397983', u'longitude': u'-96.8029489'}, {u'latitude': u'33.102352', u'longitude': u'-96.69936'}, {u'latitude': u'33.088062', u'longitude': u'-96.820743'}, {u'latitude': u'33.077897', u'longitude': u'-96.826802'}, {u'latitude': u'33.077897', u'longitude': u'-96.826802'}, {u'latitude': u'33.0866130', u'longitude': u'-96.7710830'}, {u'latitude': u'33.155412', u'longitude': u'-96.945689'}, {u'latitude': u'33.080488', u'longitude': u'-96.836489'}, {u'latitude': u'33.052814', u'longitude': u'-96.7996'}, {u'latitude': u'33.132058', u'longitude': u'-96.688369'}, {u'latitude': u'33.038632', u'longitude': u'-96.830107'}, {u'latitude': u'33.030117', u'longitude': u'-96.77017'}, {u'latitude': u'33.100723', u'longitude': u'-96.699717'}, {u'latitude': u'33.01826', u'longitude': u'-96.795153'}, {u'latitude': u'33.016069', u'longitude': u'-96.800556'}, {u'latitude': u'33.016309', u'longitude': u'-96.798968'}, {u'latitude': u'33.027687', u'longitude': u'-96.802958'}, {u'latitude': u'32.980808', u'longitude': u'-96.831427'}, {u'latitude': u'33.022544', u'longitude': u'-96.938067'}, {u'latitude': u'32.9845551', u'longitude': u'-96.8737649'}, {u'latitude': u'32.9662916', u'longitude': u'-96.8205593'}, {u'latitude': u'33.1957058', u'longitude': u'-96.6122945'}, {u'latitude': u'33.180943', u'longitude': u'-96.594319'}, {u'latitude': u'33.0201216', u'longitude': u'-96.9841543'}, {u'latitude': u'33.2150040', u'longitude': u'-97.1129120'}, {u'latitude': u'32.8616987', u'longitude': u'-96.7697678'}, {u'latitude': u'33.0011338', u'longitude': u'-96.6853071'}, {u'latitude': u'32.9549399', u'longitude': u'-96.8035672'}, {u'latitude': u'33.0207612', u'longitude': u'-96.7190153'}, {u'latitude': u'32.9659985', u'longitude': u'-96.7269047'}, {u'latitude': u'32.9916108', u'longitude': u'-96.9803224'}, {u'latitude': u'32.936639', u'longitude': u'-96.822337'}]}, u'snippet': u'Billy Leonard Jr. Frisco, TX Bankruptcy Lawyer. 32 years experience. (469) 287-\\n3908 2801 Network Blvd Frisco, TX 75034. Bankruptcy. Save. View Lawyer\\xa0...', u'htmlSnippet': u'<b>Billy</b> Leonard Jr. Frisco, TX Bankruptcy Lawyer. 32 years experience. (469) 287-<br>\\n3908 2801 Network Blvd Frisco, TX 75034. Bankruptcy. Save. View Lawyer&nbsp;...', u'link': u'https://www.justia.com/lawyers/bankruptcy-and-debt/texas/frisco', u'cacheId': u'dmKqP6g5zVcJ'}])\n",
      "(u'context', {u'title': u'greencall'})\n",
      "(u'queries', {u'request': [{u'count': 10, u'dateRestrict': u\"'2012'\", u'outputEncoding': u'utf8', u'language': u'lang_en', u'title': u'Google Custom Search - Billy Masters', u'safe': u'off', u'searchTerms': u'Billy Masters', u'exactTerms': u'asset', u'startIndex': 1, u'cx': u'003891126258438650518:fcb7zxrqavu', u'inputEncoding': u'utf8', u'totalResults': u'4480', u'filter': u'1'}], u'nextPage': [{u'count': 10, u'dateRestrict': u\"'2012'\", u'outputEncoding': u'utf8', u'language': u'lang_en', u'title': u'Google Custom Search - Billy Masters', u'safe': u'off', u'searchTerms': u'Billy Masters', u'exactTerms': u'asset', u'startIndex': 11, u'cx': u'003891126258438650518:fcb7zxrqavu', u'inputEncoding': u'utf8', u'totalResults': u'4480', u'filter': u'1'}]})\n"
     ]
    }
   ],
   "source": [
    "# we need to also map the values as json; right now they're just strings\n",
    "\n",
    "def jsonifyDemo(demo):\n",
    "    for key in demo.keys():\n",
    "        if demo[key] == \"False\":\n",
    "            demo[key] = \"\"\n",
    "        else:\n",
    "            demo[key] = json.loads(demo[key])\n",
    "    return set(demo.values())\n",
    "\n",
    "# doesn't work\n",
    "#jsonifyDemo(demo)\n",
    "\n",
    "count = 0\n",
    "for key in demo.keys():\n",
    "    if count == 5:\n",
    "        break\n",
    "        \n",
    "    print(key, demo[key])\n",
    "    count += 1\n"
   ]
  },
  {
   "cell_type": "code",
   "execution_count": 2,
   "metadata": {
    "collapsed": false
   },
   "outputs": [],
   "source": [
    "# mock data structure\n",
    "google = {\"content\": \"foo\", \n",
    "          \"results\": {\"result_one\": {\"persona\": \"phone\",\n",
    "                                     \"personb\":  \"phone\",\n",
    "                                      \"personc\":  \"phone\"\n",
    "                                    },\n",
    "                       \"result_two\": [\"thing1\",\n",
    "                                      \"thing2\",\n",
    "                                       \"thing3\"\n",
    "                                     ],\n",
    "                       \"result_three\": \"none\"\n",
    "                     },\n",
    "          \"query\": [\"Taylor Swift\", \"Bob Dole\", \"Rocketman\"]\n",
    "}\n",
    "\n",
    "# correctly formatted documents for _source of elasticsearch entry\n",
    "correct_documents = [\n",
    "    {\"content\":\"foo\"},\n",
    "    {\"results\": [\"result_one\", \"result_two\", \"result_three\"]},\n",
    "    {\"result_one\": [\"persona\", \"personb\", \"personc\"]},\n",
    "    {\"persona\": \"phone\"},\n",
    "    {\"personb\": \"phone\"},\n",
    "    {\"personc\": \"phone\"},\n",
    "    {\"result_two\":[\"thing1\",\"thing2\",\"thing3\"]},\n",
    "    {\"result_three\": \"none\"},\n",
    "    {\"query\": [\"Taylor Swift\", \"Bob Dole\", \"Rocketman\"]}\n",
    "]\n",
    "        "
   ]
  },
  {
   "cell_type": "code",
   "execution_count": 10,
   "metadata": {
    "collapsed": false
   },
   "outputs": [
    {
     "name": "stdout",
     "output_type": "stream",
     "text": [
      "Reviewing the data types within the mock data structure\n",
      "root: <type 'dict'>\n",
      "first three branches: [<type 'str'>, <type 'str'>, <type 'str'>]\n",
      "\n",
      "Reviewing the values within the mock data structue\n",
      "root: {'content': 'foo', 'query': ['Taylor Swift', 'Bob Dole', 'Rocketman'], 'results': {'result_two': ['thing1', 'thing2', 'thing3'], 'result_one': {'personb': 'phone', 'personc': 'phone', 'persona': 'phone'}, 'result_three': 'none'}}\n",
      "first three branches: ['content', 'query', 'results']\n"
     ]
    }
   ],
   "source": [
    "print(\"Reviewing the data types within the mock data structure\")\n",
    "print(\"root: {}\".format(type(google)))\n",
    "print(\"first three branches: {}\\n\".format([type(item) for item in google.keys()]))\n",
    "\n",
    "print(\"Reviewing the values within the mock data structue\")\n",
    "print(\"root: {}\".format(google))\n",
    "print(\"first three branches: {}\".format([item for item in google.keys()]))"
   ]
  },
  {
   "cell_type": "code",
   "execution_count": 13,
   "metadata": {
    "collapsed": false
   },
   "outputs": [
    {
     "name": "stdout",
     "output_type": "stream",
     "text": [
      "Walking down the first branch\n",
      "First branch key: content\n",
      "First branch value: foo\n"
     ]
    }
   ],
   "source": [
    "print(\"Walking down the first branch\")\n",
    "print(\"First branch key: {}\".format(google.keys()[0]))\n",
    "print(\"First branch value: {}\".format(google[google.keys()[0]]))"
   ]
  },
  {
   "cell_type": "code",
   "execution_count": 26,
   "metadata": {
    "collapsed": false
   },
   "outputs": [
    {
     "name": "stdout",
     "output_type": "stream",
     "text": [
      "Can we go any further down the first branch?\n",
      "found a root!\n"
     ]
    }
   ],
   "source": [
    "print(\"Can we go any further down the first branch?\")\n",
    "\n",
    "try:\n",
    "    google[google.keys()[0]].keys()\n",
    "except AttributeError:\n",
    "    print(\"found a root!\")"
   ]
  },
  {
   "cell_type": "code",
   "execution_count": 29,
   "metadata": {
    "collapsed": false
   },
   "outputs": [
    {
     "name": "stdout",
     "output_type": "stream",
     "text": [
      "Let's try the second branch\n",
      "found a root!\n",
      "\n",
      "Here's what we found:['Taylor Swift', 'Bob Dole', 'Rocketman']\n"
     ]
    }
   ],
   "source": [
    "print(\"Let's try the second branch\")\n",
    "\n",
    "try:\n",
    "    google[google.keys()[1]].keys()\n",
    "except AttributeError:\n",
    "    print(\"found a root!\\n\")\n",
    "    \n",
    "print(\"Here's what we found:{}\".format(google[google.keys()[1]]))"
   ]
  },
  {
   "cell_type": "code",
   "execution_count": 31,
   "metadata": {
    "collapsed": false
   },
   "outputs": [
    {
     "name": "stdout",
     "output_type": "stream",
     "text": [
      "How about the third branch\n",
      "['result_two', 'result_one', 'result_three']\n"
     ]
    }
   ],
   "source": [
    "print(\"How about the third branch\")\n",
    "\n",
    "try:\n",
    "    print(google[google.keys()[2]].keys())\n",
    "except AttributeError:\n",
    "    print(\"found a root!\\n\")"
   ]
  },
  {
   "cell_type": "code",
   "execution_count": 33,
   "metadata": {
    "collapsed": false
   },
   "outputs": [
    {
     "name": "stdout",
     "output_type": "stream",
     "text": [
      "Still walking down the third branch\n",
      "ok\n"
     ]
    }
   ],
   "source": [
    "print(\"Still walking down the third branch\")\n",
    "\n",
    "try:\n",
    "    print(google.keys()[2].keys()[0])\n",
    "except AttributeError:\n",
    "    print(\"ok\")"
   ]
  },
  {
   "cell_type": "code",
   "execution_count": 58,
   "metadata": {
    "collapsed": false
   },
   "outputs": [
    {
     "name": "stdout",
     "output_type": "stream",
     "text": [
      "['thing1', 'thing2', 'thing3']\n",
      "{'personb': 'phone', 'personc': 'phone', 'persona': 'phone'}\n",
      "['personb', 'personc', 'persona']\n",
      "['phone', 'phone', 'phone']\n",
      "none\n"
     ]
    }
   ],
   "source": [
    "# walking down the third branch\n",
    "\n",
    "for value in google[google.keys()[2]].values():\n",
    "    try:\n",
    "        if value.keys():\n",
    "            \"Found another dictionary\"\n",
    "            print value\n",
    "            print value.keys()\n",
    "            print value.values()\n",
    "    except AttributeError:\n",
    "        print value\n"
   ]
  },
  {
   "cell_type": "code",
   "execution_count": 63,
   "metadata": {
    "collapsed": false
   },
   "outputs": [
    {
     "name": "stdout",
     "output_type": "stream",
     "text": [
      "No keys found for value\n",
      "foo \n",
      "\n",
      "No keys found for value\n",
      "['Taylor Swift', 'Bob Dole', 'Rocketman'] \n",
      "\n",
      "Keys found for value\n",
      "['result_two', 'result_one', 'result_three']\n",
      "[['thing1', 'thing2', 'thing3'], {'personb': 'phone', 'personc': 'phone', 'persona': 'phone'}, 'none'] \n",
      "\n",
      "No keys found for value\n",
      "foo \n",
      "\n",
      "No keys found for value\n",
      "['Taylor Swift', 'Bob Dole', 'Rocketman'] \n",
      "\n",
      "Keys found for value\n",
      "['result_two', 'result_one', 'result_three']\n",
      "[['thing1', 'thing2', 'thing3'], {'personb': 'phone', 'personc': 'phone', 'persona': 'phone'}, 'none'] \n",
      "\n",
      "No keys found for value\n",
      "foo \n",
      "\n",
      "No keys found for value\n",
      "['Taylor Swift', 'Bob Dole', 'Rocketman'] \n",
      "\n",
      "Keys found for value\n",
      "['result_two', 'result_one', 'result_three']\n",
      "[['thing1', 'thing2', 'thing3'], {'personb': 'phone', 'personc': 'phone', 'persona': 'phone'}, 'none'] \n",
      "\n"
     ]
    }
   ],
   "source": [
    "# maybe try walking down the whole data structure\n",
    "\n",
    "def traverseResults(google):\n",
    "    for key in google.keys():\n",
    "        try:\n",
    "            for value in google.values():\n",
    "                try:\n",
    "                    if value.keys():\n",
    "                        print(\"Keys found for value\")\n",
    "                        print value.keys()\n",
    "                        print value.values(),\"\\n\"\n",
    "                except AttributeError:\n",
    "                    print(\"No keys found for value\")\n",
    "                    print value,\"\\n\"\n",
    "        except:\n",
    "            print(\"No value found for keys\")\n",
    "            print key,\"\\n\"\n",
    "\n",
    "#google.keys()\n",
    "traverseResults(google)\n"
   ]
  },
  {
   "cell_type": "code",
   "execution_count": 80,
   "metadata": {
    "collapsed": false
   },
   "outputs": [
    {
     "name": "stdout",
     "output_type": "stream",
     "text": [
      "root found: content\n",
      "root found: query\n",
      "root found: ['thing1', 'thing2', 'thing3']\n",
      "\n",
      "Keys found for value\n",
      "['phone', 'phone', 'phone'] \n",
      "\n",
      "\n",
      "Starting recursion\n",
      "root found: personb\n",
      "root found: personc\n",
      "root found: persona\n",
      "root found: none\n",
      "\n"
     ]
    },
    {
     "data": {
      "text/plain": [
       "True"
      ]
     },
     "execution_count": 80,
     "metadata": {},
     "output_type": "execute_result"
    }
   ],
   "source": [
    "#this is a start but we looped through the data structure 3 more times than necessary\n",
    "\n",
    "def traverseResults(google):\n",
    "    \n",
    "    for key in google.keys():\n",
    "        \n",
    "        try:\n",
    "            for value in google[key].values():\n",
    "                try:\n",
    "                    if value.keys():\n",
    "                        print(\"Keys found for value\")\n",
    "                        print value.values(),\"\\n\"\n",
    "                        \n",
    "                        print(\"\\nStarting recursion\")\n",
    "                        traverseResults(value)\n",
    "                except AttributeError:\n",
    "                    print(\"root found: {}\\n\".format(value))\n",
    "                    \n",
    "        except AttributeError:\n",
    "            print \"root found: {}\".format(key)\n",
    "            \n",
    "        google.keys().pop()\n",
    "        \n",
    "    return True\n",
    "\n",
    "traverseResults(google)\n",
    "        "
   ]
  },
  {
   "cell_type": "code",
   "execution_count": 77,
   "metadata": {
    "collapsed": false
   },
   "outputs": [],
   "source": [
    "# that function seems to be working, let's try to modify\n",
    "# so it equals the correct documents we defined previously"
   ]
  },
  {
   "cell_type": "code",
   "execution_count": 88,
   "metadata": {
    "collapsed": false
   },
   "outputs": [
    {
     "name": "stdout",
     "output_type": "stream",
     "text": [
      "Here's the tree: {'content': 'foo', 'query': ['Taylor Swift', 'Bob Dole', 'Rocketman'], 'results': {'result_two': ['thing1', 'thing2', 'thing3'], 'result_one': {'personb': 'phone', 'personc': 'phone', 'persona': 'phone'}, 'result_three': 'none'}}\n",
      "\n",
      "root found: content\n",
      "here's the root value: foo\n",
      "root found: query\n",
      "here's the root value: ['Taylor Swift', 'Bob Dole', 'Rocketman']\n",
      "No keys found for value: ['thing1', 'thing2', 'thing3']\n",
      "\n",
      "Values with keys: {'personb': 'phone', 'personc': 'phone', 'persona': 'phone'}\n",
      "\n",
      "Starting recursion\n",
      "root found: personb\n",
      "here's the root value: phone\n",
      "root found: personc\n",
      "here's the root value: phone\n",
      "root found: persona\n",
      "here's the root value: phone\n",
      "No keys found for value: none\n",
      "\n"
     ]
    },
    {
     "data": {
      "text/plain": [
       "True"
      ]
     },
     "execution_count": 88,
     "metadata": {},
     "output_type": "execute_result"
    }
   ],
   "source": [
    "print(\"Here's the tree: {}\\n\".format(google))\n",
    "\n",
    "def traverseResults(google):\n",
    "    \n",
    "    for key in google.keys():\n",
    "        \n",
    "        try:\n",
    "            for value in google[key].values():\n",
    "                try:\n",
    "                    if value.keys():\n",
    "                        print(\"Values with keys: {}\".format(value))\n",
    "                        \n",
    "                        print(\"\\nStarting recursion\")\n",
    "                        traverseResults(value)\n",
    "                except AttributeError:\n",
    "                    print(\"No keys found for value: {}\\n\".format(value))\n",
    "                    \n",
    "                    \n",
    "        except AttributeError:\n",
    "            print \"root found: {}\".format(key)\n",
    "            print \"here's the root value: {}\".format(google[key])\n",
    "            \n",
    "        google.keys().pop()\n",
    "        \n",
    "    return True\n",
    "\n",
    "traverseResults(google)"
   ]
  },
  {
   "cell_type": "code",
   "execution_count": 91,
   "metadata": {
    "collapsed": false
   },
   "outputs": [
    {
     "name": "stdout",
     "output_type": "stream",
     "text": [
      "Elasticsearch document: content:foo\n",
      "Elasticsearch document: query:['Taylor Swift', 'Bob Dole', 'Rocketman']\n",
      "Elasticsearch document: results:['thing1', 'thing2', 'thing3']\n",
      "Elasticsearch document: results:['personb', 'personc', 'persona']\n",
      "\n",
      "Starting recursion\n",
      "Elasticsearch document: personb:phone\n",
      "Elasticsearch document: personc:phone\n",
      "Elasticsearch document: persona:phone\n",
      "Elasticsearch document: results:none\n"
     ]
    },
    {
     "data": {
      "text/plain": [
       "True"
      ]
     },
     "execution_count": 91,
     "metadata": {},
     "output_type": "execute_result"
    }
   ],
   "source": [
    "# let's try another modification where the keys are mapped to their values then printed\n",
    "\n",
    "def traverseResults(google):\n",
    "    \n",
    "    for key in google.keys():\n",
    "        \n",
    "        try:\n",
    "            for value in google[key].values():\n",
    "                try:\n",
    "                    if value.keys():\n",
    "                        print(\"Elasticsearch document: {0}:{1}\".format(key, value.keys()))\n",
    "                        \n",
    "                        print(\"\\nStarting recursion\")\n",
    "                        traverseResults(value)\n",
    "                except AttributeError:\n",
    "                    print(\"Elasticsearch document: {0}:{1}\".format(key, value))\n",
    "                    \n",
    "                    \n",
    "        except AttributeError:\n",
    "            print(\"Elasticsearch document: {0}:{1}\".format(key, google[key]))\n",
    "            \n",
    "        google.keys().pop()\n",
    "        \n",
    "    return True\n",
    "\n",
    "traverseResults(google)"
   ]
  },
  {
   "cell_type": "code",
   "execution_count": 106,
   "metadata": {
    "collapsed": false
   },
   "outputs": [
    {
     "name": "stdout",
     "output_type": "stream",
     "text": [
      "Elasticsearch document: content:foo\n",
      "Elasticsearch document: query:['Taylor Swift', 'Bob Dole', 'Rocketman']\n",
      "Elasticsearch document: results:['thing1', 'thing2', 'thing3']\n",
      "Elasticsearch document: results:['personb', 'personc', 'persona']\n",
      "\n",
      "Starting recursion\n",
      "Elasticsearch document: personb:phone\n",
      "Elasticsearch document: personc:phone\n",
      "Elasticsearch document: persona:phone\n",
      "Elasticsearch document: results:none\n",
      "\n",
      "Here are the documents:\n",
      "Elasticsearch document 1: {'content': 'foo'}\n",
      "Elasticsearch document 2: {'query': ['Taylor Swift', 'Bob Dole', 'Rocketman']}\n",
      "Elasticsearch document 3: {'results': ['thing1', 'thing2', 'thing3']}\n",
      "Elasticsearch document 4: {'results': ['personb', 'personc', 'persona']}\n",
      "Elasticsearch document 5: {'results': 'none'}\n",
      "\n",
      "Here are the correct documents:\n",
      "Correct document 1: {'content': 'foo'}\n",
      "Correct document 2: {'results': ['result_one', 'result_two', 'result_three']}\n",
      "Correct document 3: {'result_one': ['persona', 'personb', 'personc']}\n",
      "Correct document 4: {'persona': 'phone'}\n",
      "Correct document 5: {'personb': 'phone'}\n",
      "Correct document 6: {'personc': 'phone'}\n",
      "Correct document 7: {'result_two': ['thing1', 'thing2', 'thing3']}\n",
      "Correct document 8: {'result_three': 'none'}\n",
      "Correct document 9: {'query': ['Taylor Swift', 'Bob Dole', 'Rocketman']}\n"
     ]
    }
   ],
   "source": [
    "# seems to be working, let's introduce a data structure\n",
    "# to capture the elasticsearch documents\n",
    "\n",
    "class ElasticSnowball(object):\n",
    "    \n",
    "    def __init__(self):\n",
    "        self.documents = []\n",
    "        \n",
    "    def traverseResults(self, google):\n",
    "    \n",
    "        for key in google.keys():\n",
    "        \n",
    "            try:\n",
    "                for value in google[key].values():\n",
    "                    try:\n",
    "                        if value.keys():\n",
    "                            print(\"Elasticsearch document: {0}:{1}\".format(key, value.keys()))\n",
    "                            self.documents.append({key:value.keys()})\n",
    "                        \n",
    "                            print(\"\\nStarting recursion\")\n",
    "                            traverseResults(value)\n",
    "                    except AttributeError:\n",
    "                        print(\"Elasticsearch document: {0}:{1}\".format(key, value))\n",
    "                        self.documents.append({key:value})\n",
    "                    \n",
    "                    \n",
    "            except AttributeError:\n",
    "                print(\"Elasticsearch document: {0}:{1}\".format(key, google[key]))\n",
    "                self.documents.append({key:google[key]})\n",
    "            \n",
    "            google.keys().pop()\n",
    "        \n",
    "        return True\n",
    "\n",
    "elasticsnowball = ElasticSnowball()\n",
    "\n",
    "elasticsnowball.traverseResults(google)\n",
    "\n",
    "print(\"\\nHere are the documents:\")\n",
    "count = 1\n",
    "for document in elasticsnowball.documents:\n",
    "    print(\"Elasticsearch document {}: {}\".format(count, document))\n",
    "    count += 1\n",
    "    \n",
    "print(\"\\nHere are the correct documents:\")\n",
    "count = 1\n",
    "for doc in correct_documents:\n",
    "    print(\"Correct document {}: {}\".format(count, doc))\n",
    "    count += 1\n"
   ]
  },
  {
   "cell_type": "code",
   "execution_count": 109,
   "metadata": {
    "collapsed": false
   },
   "outputs": [
    {
     "name": "stdout",
     "output_type": "stream",
     "text": [
      "Correct match: {'content': 'foo'}\n",
      "Correct match: {'query': ['Taylor Swift', 'Bob Dole', 'Rocketman']}\n",
      "\n",
      "Number of matches between elastic  & correct: 2\n"
     ]
    }
   ],
   "source": [
    "def findMatch(elastic, correct):\n",
    "    count = 0\n",
    "    for document in elastic:\n",
    "        for doc in correct:\n",
    "            if document == doc:\n",
    "                print(\"Correct match: {}\".format(document))\n",
    "                count += 1\n",
    "    return count\n",
    "\n",
    "print(\"\\nNumber of matches between elastic  & correct: {}\".format(findMatch(elasticsnowball.documents, \n",
    "                                                                          correct_documents)))"
   ]
  },
  {
   "cell_type": "markdown",
   "metadata": {},
   "source": [
    "#Findings so far\n",
    "\n",
    "\n",
    "You were able to get a function to correctly map out documents having a depth of 1.\n",
    "\n",
    "You will have to figure out how to correctly map documents at their full depth. Good\n",
    "news is that you have been able to successfully find the roots. Now it's just matching\n",
    "each root with it's correct key."
   ]
  },
  {
   "cell_type": "code",
   "execution_count": null,
   "metadata": {
    "collapsed": true
   },
   "outputs": [],
   "source": []
  }
 ],
 "metadata": {
  "kernelspec": {
   "display_name": "Python 2",
   "language": "python",
   "name": "python2"
  },
  "language_info": {
   "codemirror_mode": {
    "name": "ipython",
    "version": 2
   },
   "file_extension": ".py",
   "mimetype": "text/x-python",
   "name": "python",
   "nbconvert_exporter": "python",
   "pygments_lexer": "ipython2",
   "version": "2.7.10"
  }
 },
 "nbformat": 4,
 "nbformat_minor": 0
}
