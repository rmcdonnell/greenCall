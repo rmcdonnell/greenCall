{
 "cells": [
  {
   "cell_type": "markdown",
   "metadata": {},
   "source": [
    "# Example of correct bulk upload using python elasticsearch client\n",
    "\n",
    "[Reference blog](http://unroutable.blogspot.com/2015/03/quick-example-elasticsearch-bulk-index.html).\n",
    "\n",
    "[elasticsearch-py](http://elasticsearch-py.readthedocs.org/en/latest/helpers.html) documentation\n",
    "\n"
   ]
  },
  {
   "cell_type": "code",
   "execution_count": 16,
   "metadata": {
    "collapsed": false
   },
   "outputs": [],
   "source": [
    "import itertools\n",
    "import string\n",
    "from elasticsearch import Elasticsearch,helpers\n",
    "es = Elasticsearch()"
   ]
  },
  {
   "cell_type": "code",
   "execution_count": 17,
   "metadata": {
    "collapsed": true
   },
   "outputs": [],
   "source": [
    "k = ({'_type':'foo', '_index':'test','letters':''.join(letters)}\n",
    "     for letters in itertools.permutations(string.letters,2))\n"
   ]
  },
  {
   "cell_type": "code",
   "execution_count": 18,
   "metadata": {
    "collapsed": false
   },
   "outputs": [
    {
     "data": {
      "text/plain": [
       "{'_index': 'test', '_type': 'foo', 'letters': 'AB'}"
      ]
     },
     "execution_count": 18,
     "metadata": {},
     "output_type": "execute_result"
    }
   ],
   "source": [
    "k.next()"
   ]
  },
  {
   "cell_type": "code",
   "execution_count": 19,
   "metadata": {
    "collapsed": false
   },
   "outputs": [
    {
     "data": {
      "text/plain": [
       "{'_index': 'test', '_type': 'foo', 'letters': 'AC'}"
      ]
     },
     "execution_count": 19,
     "metadata": {},
     "output_type": "execute_result"
    }
   ],
   "source": [
    "k.next()"
   ]
  },
  {
   "cell_type": "code",
   "execution_count": 20,
   "metadata": {
    "collapsed": false
   },
   "outputs": [],
   "source": [
    "#es.indices.create('test')"
   ]
  },
  {
   "cell_type": "code",
   "execution_count": 21,
   "metadata": {
    "collapsed": false
   },
   "outputs": [
    {
     "data": {
      "text/plain": [
       "(2650, [])"
      ]
     },
     "execution_count": 21,
     "metadata": {},
     "output_type": "execute_result"
    }
   ],
   "source": [
    "helpers.bulk(es,k)"
   ]
  },
  {
   "cell_type": "code",
   "execution_count": 22,
   "metadata": {
    "collapsed": false
   },
   "outputs": [
    {
     "data": {
      "text/plain": [
       "{u'_shards': {u'failed': 0, u'successful': 5, u'total': 5}, u'count': 25129}"
      ]
     },
     "execution_count": 22,
     "metadata": {},
     "output_type": "execute_result"
    }
   ],
   "source": [
    "es.count(index='test')"
   ]
  },
  {
   "cell_type": "markdown",
   "metadata": {},
   "source": [
    "# Modifying the example to fit our use case\n",
    "\n",
    "We are going to start by reading the json file returned from our search api"
   ]
  },
  {
   "cell_type": "code",
   "execution_count": 23,
   "metadata": {
    "collapsed": false
   },
   "outputs": [],
   "source": [
    "import json\n",
    "from elasticsearch import Elasticsearch\n",
    "from greencall.utils.loadelastic import (read_json, load_elastic,\n",
    "                                         prepare_all_documents,\n",
    "                                        map_documents)\n",
    "from greencall.csvclean.inputCsv import read_csv"
   ]
  },
  {
   "cell_type": "code",
   "execution_count": 24,
   "metadata": {
    "collapsed": true
   },
   "outputs": [],
   "source": [
    "resultspath = 'examples/finance_demo2.json'\n",
    "esformat = {\n",
    "            \"_index\": \"customsearch\",\n",
    "            \"_type\": \"website\",\n",
    "            \"_id\": None,\n",
    "            \"_source\": \"\"\n",
    "        }\n",
    "\n",
    "accountdict = 'examples/finance_demo.csv'"
   ]
  },
  {
   "cell_type": "code",
   "execution_count": 25,
   "metadata": {
    "collapsed": true
   },
   "outputs": [],
   "source": [
    "es = Elasticsearch()"
   ]
  },
  {
   "cell_type": "code",
   "execution_count": 26,
   "metadata": {
    "collapsed": false
   },
   "outputs": [],
   "source": [
    "results = read_json(resultspath)"
   ]
  },
  {
   "cell_type": "code",
   "execution_count": 27,
   "metadata": {
    "collapsed": false
   },
   "outputs": [
    {
     "data": {
      "text/plain": [
       "40"
      ]
     },
     "execution_count": 27,
     "metadata": {},
     "output_type": "execute_result"
    }
   ],
   "source": [
    "len(results)"
   ]
  },
  {
   "cell_type": "code",
   "execution_count": 28,
   "metadata": {
    "collapsed": false
   },
   "outputs": [
    {
     "name": "stdout",
     "output_type": "stream",
     "text": [
      "key: 11112288, type: <type 'int'>\n",
      "key: 11112382, type: <type 'int'>\n",
      "key: 11111346, type: <type 'int'>\n",
      "key: 11112662, type: <type 'int'>\n",
      "key: 11112282, type: <type 'int'>\n",
      "key: 11111135, type: <type 'int'>\n",
      "key: 11111709, type: <type 'int'>\n",
      "key: 11111836, type: <type 'int'>\n",
      "key: 11111815, type: <type 'int'>\n",
      "key: 11111973, type: <type 'int'>\n",
      "key: 11111626, type: <type 'int'>\n",
      "key: 11112010, type: <type 'int'>\n",
      "key: 11111972, type: <type 'int'>\n",
      "key: 11111337, type: <type 'int'>\n",
      "key: 11112210, type: <type 'int'>\n",
      "key: 11111143, type: <type 'int'>\n",
      "key: 11111146, type: <type 'int'>\n",
      "key: 11111437, type: <type 'int'>\n",
      "key: 11111253, type: <type 'int'>\n",
      "key: 11111417, type: <type 'int'>\n",
      "key: 11111774, type: <type 'int'>\n",
      "key: 11111169, type: <type 'int'>\n",
      "key: 11111294, type: <type 'int'>\n",
      "key: 11111757, type: <type 'int'>\n",
      "key: 11112584, type: <type 'int'>\n",
      "key: 11111821, type: <type 'int'>\n",
      "key: 11111336, type: <type 'int'>\n",
      "key: 11111804, type: <type 'int'>\n",
      "key: 11111495, type: <type 'int'>\n",
      "key: 11111157, type: <type 'int'>\n",
      "key: 11112260, type: <type 'int'>\n",
      "key: 11112028, type: <type 'int'>\n",
      "key: 11112556, type: <type 'int'>\n",
      "key: 11111190, type: <type 'int'>\n",
      "key: 11112269, type: <type 'int'>\n",
      "key: 11112349, type: <type 'int'>\n",
      "key: 11112630, type: <type 'int'>\n",
      "key: 11111585, type: <type 'int'>\n",
      "key: 11111445, type: <type 'int'>\n",
      "key: 11111589, type: <type 'int'>\n"
     ]
    }
   ],
   "source": [
    "#actions = prepare_all_documents(results, esformat, accountdict)\n",
    "for key in results.keys():\n",
    "    key = int(key)\n",
    "    print(\"key: {}, type: {}\".format(key, type(key)))"
   ]
  },
  {
   "cell_type": "code",
   "execution_count": 29,
   "metadata": {
    "collapsed": false
   },
   "outputs": [
    {
     "name": "stdout",
     "output_type": "stream",
     "text": [
      "key not found: 11112288\n",
      "0\n",
      "key not found: 11112382\n",
      "0\n",
      "0\n",
      "key not found: 11112662\n",
      "0\n",
      "key not found: 11112282\n",
      "0\n",
      "0\n",
      "0\n",
      "key not found: 11111836\n",
      "0\n",
      "key not found: 11111815\n",
      "0\n",
      "key not found: 11111973\n",
      "0\n",
      "15\n",
      "key not found: 11112010\n",
      "15\n",
      "key not found: 11111972\n",
      "15\n",
      "30\n",
      "key not found: 11112210\n",
      "30\n",
      "44\n",
      "59\n",
      "70\n",
      "85\n",
      "100\n",
      "key not found: 11111774\n",
      "100\n",
      "114\n",
      "128\n",
      "139\n",
      "key not found: 11112584\n",
      "139\n",
      "key not found: 11111821\n",
      "139\n",
      "150\n",
      "key not found: 11111804\n",
      "150\n",
      "164\n",
      "179\n",
      "key not found: 11112260\n",
      "179\n",
      "key not found: 11112028\n",
      "179\n",
      "key not found: 11112556\n",
      "179\n",
      "194\n",
      "key not found: 11112269\n",
      "194\n",
      "key not found: 11112349\n",
      "194\n",
      "key not found: 11112630\n",
      "194\n",
      "205\n",
      "220\n",
      "234\n"
     ]
    }
   ],
   "source": [
    "actions = prepare_all_documents(results, esformat, read_csv(accountdict))"
   ]
  },
  {
   "cell_type": "code",
   "execution_count": 30,
   "metadata": {
    "collapsed": false
   },
   "outputs": [],
   "source": [
    "actions = iter(actions)"
   ]
  },
  {
   "cell_type": "code",
   "execution_count": 31,
   "metadata": {
    "collapsed": false
   },
   "outputs": [
    {
     "data": {
      "text/plain": [
       "{'_id': 11,\n",
       " '_index': 'customsearch',\n",
       " '_source': {'account_holder': 'Billy Masters',\n",
       "  'account_number': u'11111626',\n",
       "  u'url': [u'type', u'template']},\n",
       " '_type': 'website'}"
      ]
     },
     "execution_count": 31,
     "metadata": {},
     "output_type": "execute_result"
    }
   ],
   "source": [
    "actions.next()"
   ]
  },
  {
   "cell_type": "code",
   "execution_count": 32,
   "metadata": {
    "collapsed": false
   },
   "outputs": [
    {
     "data": {
      "text/plain": [
       "{'_id': 12,\n",
       " '_index': 'customsearch',\n",
       " '_source': {'account_holder': 'Billy Masters',\n",
       "  'account_number': u'11111626',\n",
       "  u'type': u'application/json'},\n",
       " '_type': 'website'}"
      ]
     },
     "execution_count": 32,
     "metadata": {},
     "output_type": "execute_result"
    }
   ],
   "source": [
    "actions.next()"
   ]
  },
  {
   "cell_type": "code",
   "execution_count": 33,
   "metadata": {
    "collapsed": false
   },
   "outputs": [
    {
     "data": {
      "text/plain": [
       "{'_id': 13,\n",
       " '_index': 'customsearch',\n",
       " '_source': {'account_holder': 'Billy Masters',\n",
       "  'account_number': u'11111626',\n",
       "  u'totalResults': u'4640'},\n",
       " '_type': 'website'}"
      ]
     },
     "execution_count": 33,
     "metadata": {},
     "output_type": "execute_result"
    }
   ],
   "source": [
    "actions.next()"
   ]
  },
  {
   "cell_type": "code",
   "execution_count": 34,
   "metadata": {
    "collapsed": false
   },
   "outputs": [
    {
     "data": {
      "text/plain": [
       "{'_id': 14,\n",
       " '_index': 'customsearch',\n",
       " '_source': {'account_holder': 'Billy Masters',\n",
       "  'account_number': u'11111626',\n",
       "  u'title': u'greencall'},\n",
       " '_type': 'website'}"
      ]
     },
     "execution_count": 34,
     "metadata": {},
     "output_type": "execute_result"
    }
   ],
   "source": [
    "actions.next()"
   ]
  },
  {
   "cell_type": "code",
   "execution_count": 36,
   "metadata": {
    "collapsed": false
   },
   "outputs": [
    {
     "ename": "BulkIndexError",
     "evalue": "('2 document(s) failed to index.', [{u'index': {u'status': 400, u'_type': u'website', u'_id': u'22', u'error': u'MapperParsingException[failed to parse [items.pagemap.review.datepublished]]; nested: MapperParsingException[failed to parse date field [6/7/15], tried both date format [dateOptionalTime], and timestamp number with locale []]; nested: IllegalArgumentException[Invalid format: \"6/7/15\" is malformed at \"/7/15\"]; ', u'_index': u'customsearch'}}, {u'index': {u'status': 400, u'_type': u'website', u'_id': u'26', u'error': u'MapperParsingException[failed to parse [items.pagemap.review.datepublished]]; nested: MapperParsingException[failed to parse date field [08/08/2013], tried both date format [dateOptionalTime], and timestamp number with locale []]; nested: IllegalArgumentException[Invalid format: \"08/08/2013\" is malformed at \"/08/2013\"]; ', u'_index': u'customsearch'}}])",
     "output_type": "error",
     "traceback": [
      "\u001b[1;31m---------------------------------------------------------------------------\u001b[0m",
      "\u001b[1;31mBulkIndexError\u001b[0m                            Traceback (most recent call last)",
      "\u001b[1;32m<ipython-input-36-7277ce23d0b9>\u001b[0m in \u001b[0;36m<module>\u001b[1;34m()\u001b[0m\n\u001b[1;32m----> 1\u001b[1;33m \u001b[0mhelpers\u001b[0m\u001b[1;33m.\u001b[0m\u001b[0mbulk\u001b[0m\u001b[1;33m(\u001b[0m\u001b[0mes\u001b[0m\u001b[1;33m,\u001b[0m\u001b[0mactions\u001b[0m\u001b[1;33m)\u001b[0m\u001b[1;33m\u001b[0m\u001b[0m\n\u001b[0m",
      "\u001b[1;32m/home/tbonza/.conda/envs/kaggle/lib/python2.7/site-packages/elasticsearch/helpers/__init__.pyc\u001b[0m in \u001b[0;36mbulk\u001b[1;34m(client, actions, stats_only, **kwargs)\u001b[0m\n\u001b[0;32m    180\u001b[0m     \u001b[0merrors\u001b[0m \u001b[1;33m=\u001b[0m \u001b[1;33m[\u001b[0m\u001b[1;33m]\u001b[0m\u001b[1;33m\u001b[0m\u001b[0m\n\u001b[0;32m    181\u001b[0m \u001b[1;33m\u001b[0m\u001b[0m\n\u001b[1;32m--> 182\u001b[1;33m     \u001b[1;32mfor\u001b[0m \u001b[0mok\u001b[0m\u001b[1;33m,\u001b[0m \u001b[0mitem\u001b[0m \u001b[1;32min\u001b[0m \u001b[0mstreaming_bulk\u001b[0m\u001b[1;33m(\u001b[0m\u001b[0mclient\u001b[0m\u001b[1;33m,\u001b[0m \u001b[0mactions\u001b[0m\u001b[1;33m,\u001b[0m \u001b[1;33m**\u001b[0m\u001b[0mkwargs\u001b[0m\u001b[1;33m)\u001b[0m\u001b[1;33m:\u001b[0m\u001b[1;33m\u001b[0m\u001b[0m\n\u001b[0m\u001b[0;32m    183\u001b[0m         \u001b[1;31m# go through request-reponse pairs and detect failures\u001b[0m\u001b[1;33m\u001b[0m\u001b[1;33m\u001b[0m\u001b[0m\n\u001b[0;32m    184\u001b[0m         \u001b[1;32mif\u001b[0m \u001b[1;32mnot\u001b[0m \u001b[0mok\u001b[0m\u001b[1;33m:\u001b[0m\u001b[1;33m\u001b[0m\u001b[0m\n",
      "\u001b[1;32m/home/tbonza/.conda/envs/kaggle/lib/python2.7/site-packages/elasticsearch/helpers/__init__.pyc\u001b[0m in \u001b[0;36mstreaming_bulk\u001b[1;34m(client, actions, chunk_size, raise_on_error, expand_action_callback, raise_on_exception, **kwargs)\u001b[0m\n\u001b[0;32m    153\u001b[0m \u001b[1;33m\u001b[0m\u001b[0m\n\u001b[0;32m    154\u001b[0m         \u001b[1;32mif\u001b[0m \u001b[0merrors\u001b[0m\u001b[1;33m:\u001b[0m\u001b[1;33m\u001b[0m\u001b[0m\n\u001b[1;32m--> 155\u001b[1;33m             \u001b[1;32mraise\u001b[0m \u001b[0mBulkIndexError\u001b[0m\u001b[1;33m(\u001b[0m\u001b[1;34m'%i document(s) failed to index.'\u001b[0m \u001b[1;33m%\u001b[0m \u001b[0mlen\u001b[0m\u001b[1;33m(\u001b[0m\u001b[0merrors\u001b[0m\u001b[1;33m)\u001b[0m\u001b[1;33m,\u001b[0m \u001b[0merrors\u001b[0m\u001b[1;33m)\u001b[0m\u001b[1;33m\u001b[0m\u001b[0m\n\u001b[0m\u001b[0;32m    156\u001b[0m \u001b[1;33m\u001b[0m\u001b[0m\n\u001b[0;32m    157\u001b[0m \u001b[1;32mdef\u001b[0m \u001b[0mbulk\u001b[0m\u001b[1;33m(\u001b[0m\u001b[0mclient\u001b[0m\u001b[1;33m,\u001b[0m \u001b[0mactions\u001b[0m\u001b[1;33m,\u001b[0m \u001b[0mstats_only\u001b[0m\u001b[1;33m=\u001b[0m\u001b[0mFalse\u001b[0m\u001b[1;33m,\u001b[0m \u001b[1;33m**\u001b[0m\u001b[0mkwargs\u001b[0m\u001b[1;33m)\u001b[0m\u001b[1;33m:\u001b[0m\u001b[1;33m\u001b[0m\u001b[0m\n",
      "\u001b[1;31mBulkIndexError\u001b[0m: ('2 document(s) failed to index.', [{u'index': {u'status': 400, u'_type': u'website', u'_id': u'22', u'error': u'MapperParsingException[failed to parse [items.pagemap.review.datepublished]]; nested: MapperParsingException[failed to parse date field [6/7/15], tried both date format [dateOptionalTime], and timestamp number with locale []]; nested: IllegalArgumentException[Invalid format: \"6/7/15\" is malformed at \"/7/15\"]; ', u'_index': u'customsearch'}}, {u'index': {u'status': 400, u'_type': u'website', u'_id': u'26', u'error': u'MapperParsingException[failed to parse [items.pagemap.review.datepublished]]; nested: MapperParsingException[failed to parse date field [08/08/2013], tried both date format [dateOptionalTime], and timestamp number with locale []]; nested: IllegalArgumentException[Invalid format: \"08/08/2013\" is malformed at \"/08/2013\"]; ', u'_index': u'customsearch'}}])"
     ]
    }
   ],
   "source": [
    "helpers.bulk(es,actions)"
   ]
  },
  {
   "cell_type": "code",
   "execution_count": 37,
   "metadata": {
    "collapsed": false
   },
   "outputs": [
    {
     "data": {
      "text/plain": [
       "{u'_shards': {u'failed': 0, u'successful': 5, u'total': 5}, u'count': 40}"
      ]
     },
     "execution_count": 37,
     "metadata": {},
     "output_type": "execute_result"
    }
   ],
   "source": [
    "es.count(index='customsearch')"
   ]
  },
  {
   "cell_type": "code",
   "execution_count": null,
   "metadata": {
    "collapsed": true
   },
   "outputs": [],
   "source": []
  }
 ],
 "metadata": {
  "kernelspec": {
   "display_name": "Python 2",
   "language": "python",
   "name": "python2"
  },
  "language_info": {
   "codemirror_mode": {
    "name": "ipython",
    "version": 2
   },
   "file_extension": ".py",
   "mimetype": "text/x-python",
   "name": "python",
   "nbconvert_exporter": "python",
   "pygments_lexer": "ipython2",
   "version": "2.7.10"
  }
 },
 "nbformat": 4,
 "nbformat_minor": 0
}
