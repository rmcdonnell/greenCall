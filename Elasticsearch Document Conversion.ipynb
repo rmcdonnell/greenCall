{
 "cells": [
  {
   "cell_type": "markdown",
   "metadata": {},
   "source": [
    "# Elasticsearch Document Conversion\n",
    "\n",
    "The Elasticsearch Document Conversion from our Search API results appears to be a pain point.\n",
    "This notebook is meant to serve as root cause analysis of the issue"
   ]
  },
  {
   "cell_type": "markdown",
   "metadata": {},
   "source": [
    "## Settings Variables"
   ]
  },
  {
   "cell_type": "code",
   "execution_count": 2,
   "metadata": {
    "collapsed": true
   },
   "outputs": [],
   "source": [
    "# Maximum number of query items to request from API\n",
    "QUERY_LIMIT = 20\n",
    "\n",
    "# Maximum number or requests deferred\n",
    "MAX_RUN = 20\n",
    "\n",
    "# This many seconds will expire between requests sent\n",
    "RATE_LIMIT = 1\n",
    "\n",
    "# Path to original excel file, converted to CSV\n",
    "filepath = 'examples/finance_demo.csv'\n",
    "\n",
    "# Path to converted file to be used for API requests\n",
    "outpath = 'examples/ipython_demo.json'\n",
    "\n",
    "# results returned from the API via the networking engine\n",
    "resultspath = 'results.json'\n",
    "\n",
    "# Specify a document template for Elasticsearch\n",
    "esformat = {\n",
    "            \"_index\": \"ipythonsearch\",\n",
    "            \"_type\": \"website\",\n",
    "            \"_id\": None,\n",
    "            \"_source\": \"\"\n",
    "        }"
   ]
  },
  {
   "cell_type": "markdown",
   "metadata": {},
   "source": [
    "## Reading JSON from Search API Results"
   ]
  },
  {
   "cell_type": "code",
   "execution_count": 3,
   "metadata": {
    "collapsed": false
   },
   "outputs": [
    {
     "data": {
      "text/plain": [
       "20"
      ]
     },
     "execution_count": 3,
     "metadata": {},
     "output_type": "execute_result"
    }
   ],
   "source": [
    "import itertools\n",
    "import string\n",
    "import json\n",
    "from elasticsearch import Elasticsearch,helpers\n",
    "\n",
    "from greencall.utils.loadelastic import read_json, prepare_all_documents\n",
    "from greencall.csvclean.inputCsv import read_csv\n",
    "\n",
    "# Connect to Elasticsearch\n",
    "es = Elasticsearch()\n",
    "\n",
    "# Read results from the Search API\n",
    "results = read_json(resultspath)\n",
    "\n",
    "# Take the length of the results as a sanity check\n",
    "len(results)"
   ]
  },
  {
   "cell_type": "markdown",
   "metadata": {},
   "source": [
    "## Building a better document converter"
   ]
  },
  {
   "cell_type": "code",
   "execution_count": 6,
   "metadata": {
    "collapsed": false
   },
   "outputs": [
    {
     "name": "stdout",
     "output_type": "stream",
     "text": [
      "hello world\n"
     ]
    }
   ],
   "source": [
    "print('hello world')"
   ]
  },
  {
   "cell_type": "markdown",
   "metadata": {},
   "source": [
    "## Results from Elasticsearch document conversion"
   ]
  },
  {
   "cell_type": "code",
   "execution_count": 4,
   "metadata": {
    "collapsed": true
   },
   "outputs": [],
   "source": [
    "# prepare all documents for bulk upload into elasticsearch\n",
    "actions = prepare_all_documents(results, esformat, read_csv(filepath, QUERY_LIMIT))"
   ]
  },
  {
   "cell_type": "code",
   "execution_count": 5,
   "metadata": {
    "collapsed": false
   },
   "outputs": [
    {
     "data": {
      "text/plain": [
       "{'account_holder': 'Walter Broughton',\n",
       " 'account_number': u'11111417',\n",
       " u'searchInformation': [u'formattedSearchTime',\n",
       "  u'formattedTotalResults',\n",
       "  u'totalResults',\n",
       "  u'searchTime']}"
      ]
     },
     "execution_count": 5,
     "metadata": {},
     "output_type": "execute_result"
    }
   ],
   "source": [
    "# it's pretty clear from steping through the documents that\n",
    "# there are some issues with the parser. The first version\n",
    "# definitely worked better than nothing but we are going to\n",
    "# need to make some changes.\n",
    "\n",
    "actions[47]['_source']"
   ]
  },
  {
   "cell_type": "code",
   "execution_count": null,
   "metadata": {
    "collapsed": true
   },
   "outputs": [],
   "source": []
  }
 ],
 "metadata": {
  "kernelspec": {
   "display_name": "Python 2",
   "language": "python",
   "name": "python2"
  },
  "language_info": {
   "codemirror_mode": {
    "name": "ipython",
    "version": 2
   },
   "file_extension": ".py",
   "mimetype": "text/x-python",
   "name": "python",
   "nbconvert_exporter": "python",
   "pygments_lexer": "ipython2",
   "version": "2.7.10"
  }
 },
 "nbformat": 4,
 "nbformat_minor": 0
}
